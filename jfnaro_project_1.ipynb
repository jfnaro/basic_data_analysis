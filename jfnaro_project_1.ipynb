{
 "cells": [
  {
   "cell_type": "markdown",
   "metadata": {},
   "source": [
    "# Project 1\n",
    "\n",
    "## by Joseph Naro"
   ]
  },
  {
   "cell_type": "code",
   "execution_count": 1,
   "metadata": {},
   "outputs": [],
   "source": [
    "import pandas as pd\n",
    "import numpy as np\n",
    "import matplotlib.pyplot as plt\n",
    "from sklearn.model_selection import train_test_split\n",
    "from sklearn.pipeline import make_pipeline\n",
    "from sklearn.svm import LinearSVC\n",
    "from sklearn.neighbors import KNeighborsClassifier\n",
    "from sklearn.naive_bayes import GaussianNB, BernoulliNB\n",
    "from sklearn.linear_model import SGDClassifier"
   ]
  },
  {
   "cell_type": "markdown",
   "metadata": {},
   "source": [
    "## Part I: 1\n",
    "\n",
    "### The data set is comprised of 318,573 entries. Each row is a mixture of survey responses and and metadata, like the time time it took a respondent to complete the survey. Between the survey responses and metadata, there are a total of 57 variables per row. "
   ]
  },
  {
   "cell_type": "markdown",
   "metadata": {},
   "source": [
    "### I am using a data set from the Open Sex Role Inventories. This is a survey that people took online and was used by psychologists to examine . This data set is comprised of 318,573 responses to that survey."
   ]
  },
  {
   "cell_type": "markdown",
   "metadata": {},
   "source": [
    "### Open Sex Role Inventories data from https://www.kaggle.com/lucasgreenwell/open-sex-role-inventory-responses?select=codebook.txt"
   ]
  },
  {
   "cell_type": "markdown",
   "metadata": {},
   "source": [
    "### Below is the document, which was provided to better understand what each column represents. I will also go over these values further down\n",
    "\n",
    "This data was collected from an interactive version personality billed as the Open Sex Role Inventory, an alternative to the BSRI, from 2015 - 2019.\n",
    "\n",
    "See https://openpsychometrics.org/tests/OSRI/development/\n",
    "\n",
    "The following items were rated on a five point scale, with the labels 1=Disagree, 3=Neutral, 5=Agree:\n",
    "\n",
    "Q1\tI have studied how to win at gambling.\n",
    "Q2\tI have thought about dying my hair.\n",
    "Q3\tI have thrown knives, axes or other sharp things.\n",
    "Q4\tI give people handmade gifts.\n",
    "Q5\tI have day dreamed about saving someone from a burning building.\n",
    "Q6\tI get embarrassed when people read things I have written.\n",
    "Q7\tI have been very interested in historical wars.\n",
    "Q8\tI know the birthdays of my friends.\n",
    "Q9\tI like guns.\n",
    "Q10\tI am happiest when I am in my bed.\n",
    "Q11\tI did not work very hard in school.\n",
    "Q12\tI use lotion on my hands.\n",
    "Q13\tI would prefer a class in mathematics to a class in pottery.\n",
    "Q14\tI dance when I am alone.\n",
    "Q15\tI have thought it would be exciting to be an outlaw.\n",
    "Q16\tWhen I was a child, I put on fake concerts and plays with my friends.\n",
    "Q17\tI have considered joining the military.\n",
    "Q18\tI get dizzy when I stand up sharply.\n",
    "Q19\tI do not think it is normal to get emotionally upset upon hearing about the deaths of people you did not know.\n",
    "Q20\tI sometimes feel like crying when I get angry.\n",
    "Q21\tI do not remember birthdays.\n",
    "Q22\tI save the letters I get.\n",
    "Q23\tI playfully insult my friends.\n",
    "Q24\tI oppose medical experimentation with animals.\n",
    "Q25\tI could do an impressive amount of push ups.\n",
    "Q26\tI jump up and down in excitement sometimes.\n",
    "Q27\tI think a natural disaster would be kind of exciting.\n",
    "Q28\tI wear a blanket around the house.\n",
    "Q29\tI have burned things up with a magnifying glass.\n",
    "Q30\tI think horoscopes are fun.\n",
    "Q31\tI don't pack much luggage when I travel.\n",
    "Q32\tI have thought about becoming a vegetarian.\n",
    "Q33\tI hate shopping.\n",
    "Q34\tI have kept a personal journal.\n",
    "Q35\tI have taken apart machines just to see how they work.\n",
    "Q36\tI take lots of pictures of my activities.\n",
    "Q37\tI have played a lot of video games.\n",
    "Q38\tI leave nice notes for people now and then.\n",
    "Q39\tI have set fuels, aerosols or other chemicals on fire, just for fun.\n",
    "Q40\tI really like dancing.\n",
    "Q41\tI take stairs two at a time.\n",
    "Q42\tI bake sweets just for myself sometimes.\n",
    "Q43\tI think a natural disaster would be kind of exciting.\n",
    "Q44\tI decorate my things (e.g. stickers on laptop).\n",
    "\n",
    "On the next page the following questions were asked:\n",
    "\n",
    "engnat\t\" Is English you native language?\" 1=Yes, 2=No\n",
    "age\t\"What is your age?\", entered as text (ages <  13 not recorded)\n",
    "education\t\"How much education have you completed?\" 1=Less than high school, 2=High school, 3=University degree, 4=Graduate degree\n",
    "gender\t1=Male, 2=Female, 3=Other\n",
    "orientation\t1=Heterosexual, 2=Bisexual, 3=Homosexual, 4=Asexual, 5=Other\n",
    "race\t1=Mixed race, 2=Asian, 3=Black, 4=Native American, 5=Native Australian, 6=White, 7=Other\n",
    "religion\t1=Atheist/Agnostic, 2=Christian, 3=Muslim, 4=Jewish, 5=Hindu, 6=Buddhist, 7=Other\n",
    "hand\t\"What hand do you use to write with?\" \t1=Right, 2=Left, 3=Both\n",
    "\n",
    "The following technical data was also obtained:\n",
    "\n",
    "country\t\twhere the users computer was located (using MaxMind GeoIPLite), ISO country code\n",
    "IPC\t\tthe number of records from the same network location as this record in the dataset, high numbers are not necessarily a problem as they could all be students at the same school for example but # > 1 is possibly because of retakes\n",
    "source\t\thow the user found the test, based on HTTP Referer info. 1=google, 2=tumblr, 3=facebook/messenger, 4=reddit, 5=bing, 0=other or unknown\n",
    "introelapse\thow many seconds from when the introduction page was loaded until the user started the test\n",
    "testelapse\thow many seconds from when the test was started until the page with the test items was submitted"
   ]
  },
  {
   "cell_type": "code",
   "execution_count": 2,
   "metadata": {},
   "outputs": [
    {
     "data": {
      "text/html": [
       "<div>\n",
       "<style scoped>\n",
       "    .dataframe tbody tr th:only-of-type {\n",
       "        vertical-align: middle;\n",
       "    }\n",
       "\n",
       "    .dataframe tbody tr th {\n",
       "        vertical-align: top;\n",
       "    }\n",
       "\n",
       "    .dataframe thead th {\n",
       "        text-align: right;\n",
       "    }\n",
       "</style>\n",
       "<table border=\"1\" class=\"dataframe\">\n",
       "  <thead>\n",
       "    <tr style=\"text-align: right;\">\n",
       "      <th></th>\n",
       "      <th>Q1</th>\n",
       "      <th>Q2</th>\n",
       "      <th>Q3</th>\n",
       "      <th>Q4</th>\n",
       "      <th>Q5</th>\n",
       "      <th>Q6</th>\n",
       "      <th>Q7</th>\n",
       "      <th>Q8</th>\n",
       "      <th>Q9</th>\n",
       "      <th>Q10</th>\n",
       "      <th>...</th>\n",
       "      <th>IPC</th>\n",
       "      <th>source</th>\n",
       "      <th>engnat</th>\n",
       "      <th>age</th>\n",
       "      <th>education</th>\n",
       "      <th>gender</th>\n",
       "      <th>orientation</th>\n",
       "      <th>race</th>\n",
       "      <th>religion</th>\n",
       "      <th>hand</th>\n",
       "    </tr>\n",
       "  </thead>\n",
       "  <tbody>\n",
       "    <tr>\n",
       "      <td>0</td>\n",
       "      <td>1</td>\n",
       "      <td>4</td>\n",
       "      <td>1</td>\n",
       "      <td>5</td>\n",
       "      <td>2</td>\n",
       "      <td>5</td>\n",
       "      <td>1</td>\n",
       "      <td>5</td>\n",
       "      <td>1</td>\n",
       "      <td>4</td>\n",
       "      <td>...</td>\n",
       "      <td>1</td>\n",
       "      <td>1</td>\n",
       "      <td>1</td>\n",
       "      <td>18</td>\n",
       "      <td>2</td>\n",
       "      <td>2</td>\n",
       "      <td>2</td>\n",
       "      <td>6</td>\n",
       "      <td>1</td>\n",
       "      <td>1</td>\n",
       "    </tr>\n",
       "    <tr>\n",
       "      <td>1</td>\n",
       "      <td>1</td>\n",
       "      <td>5</td>\n",
       "      <td>1</td>\n",
       "      <td>1</td>\n",
       "      <td>1</td>\n",
       "      <td>4</td>\n",
       "      <td>5</td>\n",
       "      <td>1</td>\n",
       "      <td>5</td>\n",
       "      <td>5</td>\n",
       "      <td>...</td>\n",
       "      <td>1</td>\n",
       "      <td>0</td>\n",
       "      <td>1</td>\n",
       "      <td>19</td>\n",
       "      <td>2</td>\n",
       "      <td>1</td>\n",
       "      <td>2</td>\n",
       "      <td>6</td>\n",
       "      <td>1</td>\n",
       "      <td>2</td>\n",
       "    </tr>\n",
       "    <tr>\n",
       "      <td>2</td>\n",
       "      <td>1</td>\n",
       "      <td>4</td>\n",
       "      <td>3</td>\n",
       "      <td>3</td>\n",
       "      <td>2</td>\n",
       "      <td>5</td>\n",
       "      <td>2</td>\n",
       "      <td>5</td>\n",
       "      <td>2</td>\n",
       "      <td>3</td>\n",
       "      <td>...</td>\n",
       "      <td>1</td>\n",
       "      <td>0</td>\n",
       "      <td>2</td>\n",
       "      <td>18</td>\n",
       "      <td>2</td>\n",
       "      <td>2</td>\n",
       "      <td>1</td>\n",
       "      <td>1</td>\n",
       "      <td>1</td>\n",
       "      <td>1</td>\n",
       "    </tr>\n",
       "    <tr>\n",
       "      <td>3</td>\n",
       "      <td>1</td>\n",
       "      <td>1</td>\n",
       "      <td>4</td>\n",
       "      <td>4</td>\n",
       "      <td>5</td>\n",
       "      <td>4</td>\n",
       "      <td>5</td>\n",
       "      <td>5</td>\n",
       "      <td>4</td>\n",
       "      <td>2</td>\n",
       "      <td>...</td>\n",
       "      <td>1</td>\n",
       "      <td>1</td>\n",
       "      <td>1</td>\n",
       "      <td>19</td>\n",
       "      <td>3</td>\n",
       "      <td>2</td>\n",
       "      <td>1</td>\n",
       "      <td>6</td>\n",
       "      <td>2</td>\n",
       "      <td>1</td>\n",
       "    </tr>\n",
       "    <tr>\n",
       "      <td>4</td>\n",
       "      <td>1</td>\n",
       "      <td>2</td>\n",
       "      <td>3</td>\n",
       "      <td>4</td>\n",
       "      <td>3</td>\n",
       "      <td>3</td>\n",
       "      <td>5</td>\n",
       "      <td>1</td>\n",
       "      <td>3</td>\n",
       "      <td>2</td>\n",
       "      <td>...</td>\n",
       "      <td>2</td>\n",
       "      <td>1</td>\n",
       "      <td>1</td>\n",
       "      <td>16</td>\n",
       "      <td>2</td>\n",
       "      <td>1</td>\n",
       "      <td>1</td>\n",
       "      <td>6</td>\n",
       "      <td>2</td>\n",
       "      <td>1</td>\n",
       "    </tr>\n",
       "  </tbody>\n",
       "</table>\n",
       "<p>5 rows × 57 columns</p>\n",
       "</div>"
      ],
      "text/plain": [
       "   Q1  Q2  Q3  Q4  Q5  Q6  Q7  Q8  Q9  Q10  ...  IPC  source  engnat  age  \\\n",
       "0   1   4   1   5   2   5   1   5   1    4  ...    1       1       1   18   \n",
       "1   1   5   1   1   1   4   5   1   5    5  ...    1       0       1   19   \n",
       "2   1   4   3   3   2   5   2   5   2    3  ...    1       0       2   18   \n",
       "3   1   1   4   4   5   4   5   5   4    2  ...    1       1       1   19   \n",
       "4   1   2   3   4   3   3   5   1   3    2  ...    2       1       1   16   \n",
       "\n",
       "   education  gender  orientation  race  religion  hand  \n",
       "0          2       2            2     6         1     1  \n",
       "1          2       1            2     6         1     2  \n",
       "2          2       2            1     1         1     1  \n",
       "3          3       2            1     6         2     1  \n",
       "4          2       1            1     6         2     1  \n",
       "\n",
       "[5 rows x 57 columns]"
      ]
     },
     "execution_count": 2,
     "metadata": {},
     "output_type": "execute_result"
    }
   ],
   "source": [
    "df = pd.read_csv('data.csv', delimiter='\\t')\n",
    "df.head()"
   ]
  },
  {
   "cell_type": "code",
   "execution_count": 3,
   "metadata": {},
   "outputs": [
    {
     "data": {
      "text/plain": [
       "(318573, 57)"
      ]
     },
     "execution_count": 3,
     "metadata": {},
     "output_type": "execute_result"
    }
   ],
   "source": [
    "df.shape"
   ]
  },
  {
   "cell_type": "code",
   "execution_count": 4,
   "metadata": {},
   "outputs": [
    {
     "data": {
      "text/plain": [
       "Q1              int64\n",
       "Q2              int64\n",
       "Q3              int64\n",
       "Q4              int64\n",
       "Q5              int64\n",
       "Q6              int64\n",
       "Q7              int64\n",
       "Q8              int64\n",
       "Q9              int64\n",
       "Q10             int64\n",
       "Q11             int64\n",
       "Q12             int64\n",
       "Q13             int64\n",
       "Q14             int64\n",
       "Q15             int64\n",
       "Q16             int64\n",
       "Q17             int64\n",
       "Q18             int64\n",
       "Q19             int64\n",
       "Q20             int64\n",
       "Q21             int64\n",
       "Q22             int64\n",
       "Q23             int64\n",
       "Q24             int64\n",
       "Q25             int64\n",
       "Q26             int64\n",
       "Q27             int64\n",
       "Q28             int64\n",
       "Q29             int64\n",
       "Q30             int64\n",
       "Q31             int64\n",
       "Q32             int64\n",
       "Q33             int64\n",
       "Q34             int64\n",
       "Q35             int64\n",
       "Q36             int64\n",
       "Q37             int64\n",
       "Q38             int64\n",
       "Q39             int64\n",
       "Q40             int64\n",
       "Q41             int64\n",
       "Q42             int64\n",
       "Q43             int64\n",
       "Q44             int64\n",
       "introelapse     int64\n",
       "testelapse      int64\n",
       "country        object\n",
       "IPC             int64\n",
       "source          int64\n",
       "engnat          int64\n",
       "age             int64\n",
       "education       int64\n",
       "gender          int64\n",
       "orientation     int64\n",
       "race            int64\n",
       "religion        int64\n",
       "hand            int64\n",
       "dtype: object"
      ]
     },
     "execution_count": 4,
     "metadata": {},
     "output_type": "execute_result"
    }
   ],
   "source": [
    "df.dtypes"
   ]
  },
  {
   "cell_type": "markdown",
   "metadata": {},
   "source": [
    "## Part I: 2\n",
    "\n",
    "### The data set is comprised entirely of integer values, except the country where the respondent took the survey, which is represented by two letter abbreviations. Each of the 44 questions were answered on a scale of 1 to 5, where 1 meant disagree, 3 meant neutral, and 5 meant agree. 0 was used when a respondent did not want to provide an answer. Additionally, things like respondents' ages and sexual orientations were also encoded into integer values. Some values were not limited to a scale or encoding of categorical information. These were the respondent's age, the number of responses from the same network, time to complete the survey from the loading of the intro page, and the time to complete the survey from the loading of the survey page. I will need to preprocess the respondents' ages, because some of the responses are absurd."
   ]
  },
  {
   "cell_type": "code",
   "execution_count": 5,
   "metadata": {},
   "outputs": [
    {
     "data": {
      "text/plain": [
       "Index(['Q1', 'Q2', 'Q3', 'Q4', 'Q5', 'Q6', 'Q7', 'Q8', 'Q9', 'Q10', 'Q11',\n",
       "       'Q12', 'Q13', 'Q14', 'Q15', 'Q16', 'Q17', 'Q18', 'Q19', 'Q20', 'Q21',\n",
       "       'Q22', 'Q23', 'Q24', 'Q25', 'Q26', 'Q27', 'Q28', 'Q29', 'Q30', 'Q31',\n",
       "       'Q32', 'Q33', 'Q34', 'Q35', 'Q36', 'Q37', 'Q38', 'Q39', 'Q40', 'Q41',\n",
       "       'Q42', 'Q43', 'Q44'],\n",
       "      dtype='object')"
      ]
     },
     "execution_count": 5,
     "metadata": {},
     "output_type": "execute_result"
    }
   ],
   "source": [
    "#TODO: show unique values for each question\n",
    "#df[0].unique()\n",
    "Qs = df.columns[0:44]\n",
    "Qs"
   ]
  },
  {
   "cell_type": "code",
   "execution_count": 6,
   "metadata": {},
   "outputs": [
    {
     "data": {
      "text/plain": [
       "{0, 1, 2, 3, 4, 5}"
      ]
     },
     "execution_count": 6,
     "metadata": {},
     "output_type": "execute_result"
    }
   ],
   "source": [
    "responses = set()\n",
    "\n",
    "for Q in Qs:\n",
    "    for response in df[Q].unique():\n",
    "        responses.add(response)\n",
    "\n",
    "responses"
   ]
  },
  {
   "cell_type": "code",
   "execution_count": 7,
   "metadata": {},
   "outputs": [
    {
     "data": {
      "text/plain": [
       "array([1, 2, 0], dtype=int64)"
      ]
     },
     "execution_count": 7,
     "metadata": {},
     "output_type": "execute_result"
    }
   ],
   "source": [
    "df['engnat'].unique()"
   ]
  },
  {
   "cell_type": "code",
   "execution_count": 8,
   "metadata": {},
   "outputs": [
    {
     "data": {
      "text/plain": [
       "array([        18,         19,         16,         20,         17,\n",
       "               32,         22,         15,         25,         38,\n",
       "               31,         26,         21,         46,         34,\n",
       "               60,         45,         42,         24,         23,\n",
       "               28,         40,         53,         62,         44,\n",
       "               33,         54,         56,         61,         30,\n",
       "               37,         39,         50,         35,         14,\n",
       "               13,         29,         48,         27,         43,\n",
       "               58,         49,         47,         57,         36,\n",
       "               59,         52,         55,         68,         41,\n",
       "               71,         65,        189,         51,         72,\n",
       "               63,         64,         73,         70,         67,\n",
       "               88,         66,         69,        100,         82,\n",
       "               77,         79,         76,         85,         75,\n",
       "               83,       1337,        420,        534,         80,\n",
       "              411,        299,         78,        666,         74,\n",
       "              160,      41321,        184,        198,        999,\n",
       "              114,        400,         97,        211,       4673,\n",
       "           100000,       9999,         99,        162,    7000000,\n",
       "               91,       1111,        188,        255,        888,\n",
       "              120,        500,       1488,        221,       3258,\n",
       "           300000,        288,        119,        225,        166,\n",
       "              197,      99999,       1997,    2000000,         98,\n",
       "              990,        177,        222,       4141,         87,\n",
       "           156789,  100000000,        110,        837,         81,\n",
       "              660,       2137,        156,        191,        543,\n",
       "              234,         90,        134,        101,       1998,\n",
       "              118,       5314,         84,        176,        224,\n",
       "              227,        270,       1000,       7000,       2000,\n",
       "              393,        373,        900,        617, 2147483647,\n",
       "              800,        350,        244,        892,        102,\n",
       "             2500,        108,        445,        155,        214,\n",
       "              223,        324,        353,        259,     738374,\n",
       "              250,      10000,       7898,        366,       1005,\n",
       "              115,        186,        212,        199], dtype=int64)"
      ]
     },
     "execution_count": 8,
     "metadata": {},
     "output_type": "execute_result"
    }
   ],
   "source": [
    "df['age'].unique()"
   ]
  },
  {
   "cell_type": "code",
   "execution_count": 9,
   "metadata": {},
   "outputs": [
    {
     "data": {
      "text/plain": [
       "array([2, 3, 1, 4, 0], dtype=int64)"
      ]
     },
     "execution_count": 9,
     "metadata": {},
     "output_type": "execute_result"
    }
   ],
   "source": [
    "df['education'].unique()"
   ]
  },
  {
   "cell_type": "code",
   "execution_count": 10,
   "metadata": {},
   "outputs": [
    {
     "data": {
      "text/plain": [
       "array([2, 1, 3, 0], dtype=int64)"
      ]
     },
     "execution_count": 10,
     "metadata": {},
     "output_type": "execute_result"
    }
   ],
   "source": [
    "df['gender'].unique()"
   ]
  },
  {
   "cell_type": "code",
   "execution_count": 11,
   "metadata": {},
   "outputs": [
    {
     "data": {
      "text/plain": [
       "array([2, 1, 0, 3, 5, 4], dtype=int64)"
      ]
     },
     "execution_count": 11,
     "metadata": {},
     "output_type": "execute_result"
    }
   ],
   "source": [
    "df['orientation'].unique()"
   ]
  },
  {
   "cell_type": "code",
   "execution_count": 12,
   "metadata": {},
   "outputs": [
    {
     "data": {
      "text/plain": [
       "array([6, 1, 3, 2, 7, 0, 4, 5], dtype=int64)"
      ]
     },
     "execution_count": 12,
     "metadata": {},
     "output_type": "execute_result"
    }
   ],
   "source": [
    "df['race'].unique()"
   ]
  },
  {
   "cell_type": "code",
   "execution_count": 13,
   "metadata": {},
   "outputs": [
    {
     "data": {
      "text/plain": [
       "array([1, 2, 7, 3, 4, 0, 6, 5], dtype=int64)"
      ]
     },
     "execution_count": 13,
     "metadata": {},
     "output_type": "execute_result"
    }
   ],
   "source": [
    "df['religion'].unique()"
   ]
  },
  {
   "cell_type": "code",
   "execution_count": 14,
   "metadata": {},
   "outputs": [
    {
     "data": {
      "text/plain": [
       "array([1, 2, 3, 0], dtype=int64)"
      ]
     },
     "execution_count": 14,
     "metadata": {},
     "output_type": "execute_result"
    }
   ],
   "source": [
    "df['hand'].unique()"
   ]
  },
  {
   "cell_type": "code",
   "execution_count": 15,
   "metadata": {},
   "outputs": [
    {
     "data": {
      "text/plain": [
       "array(['US', 'PE', 'CH', 'NL', 'GB', 'CA', 'AE', 'IT', 'DE', 'PH', 'AU',\n",
       "       'AT', 'JM', 'HU', 'BE', 'TR', 'CO', 'BR', 'JP', 'ZA', 'PL', 'KE',\n",
       "       'LK', 'PT', 'SE', 'IR', 'RO', 'ID', 'FR', 'FI', 'IN', 'GR', 'PK',\n",
       "       'ES', 'KR', 'EG', 'SG', 'HK', 'MY', 'NG', 'SV', 'RU', 'MX', 'IE',\n",
       "       'HR', 'AL', 'LY', 'CZ', 'AR', 'GE', 'LT', 'RS', 'NZ', 'NO', 'IQ',\n",
       "       'TH', 'CL', 'SI', 'EE', 'NP', 'TW', 'IL', 'VN', 'NONE', 'DK', 'JE',\n",
       "       'BH', 'TN', 'MK', 'EC', 'LB', 'CK', 'BG', 'BN', 'SN', 'BA', 'TZ',\n",
       "       'SK', 'UY', 'LV', 'DZ', 'JO', 'SA', 'OM', 'IM', 'CN', 'BB', 'VE',\n",
       "       'GH', 'BD', 'MA', 'DO', 'MT', 'SR', 'QA', 'KH', 'GT', 'KZ', 'IS',\n",
       "       'UA', 'PR', 'CR', 'MU', 'BS', nan, 'PA', 'GU', 'PF', 'VC', 'TT',\n",
       "       'NC', 'CY', 'MD', 'HN', 'DM', 'KY', 'KW', 'ZM', 'LU', 'AF', 'AZ',\n",
       "       'FJ', 'PY', 'AM', 'PG', 'NI', 'GP', 'ZW', 'VG', 'MQ', 'BO', 'SD',\n",
       "       'GG', 'GI', 'MM', 'LI', 'BY', 'BF', 'BM', 'BW', 'ME', 'CM', 'MN',\n",
       "       'HT', 'AW', 'GD', 'PS', 'BT', 'FO', 'UZ', 'MC', 'KG', 'BZ', 'ET',\n",
       "       'CW', 'VI', 'AI', 'GL', 'LC', 'GM', 'MV', 'AX', 'GY', 'MO', 'MG',\n",
       "       'RE', 'MZ', 'SM', 'SC', 'UG', 'MP', 'SO', 'KN', 'SY', 'GF', 'SX',\n",
       "       'AO', 'CU', 'SZ', 'PW', 'LA', 'AG', 'XK', 'VU', 'MH'], dtype=object)"
      ]
     },
     "execution_count": 15,
     "metadata": {},
     "output_type": "execute_result"
    }
   ],
   "source": [
    "df['country'].unique()"
   ]
  },
  {
   "cell_type": "code",
   "execution_count": 16,
   "metadata": {},
   "outputs": [
    {
     "data": {
      "text/plain": [
       "array([  1,   2,   3,   4,   7,  17,   5,  19,  35,  53,  26,   6,   9,\n",
       "         8,  24,  14,  10,  25,  82, 113,  32,  21,  16,  12,  15,  72,\n",
       "        98,  33,  11,  23,  39,  13,  18,  71, 162,  31,  46,  28,  63,\n",
       "        44,  22, 104,  47,  48,  50,  45,  34,  89,  29,  36,  30,  43,\n",
       "        52,  40, 128,  56,  20,  37,  61,  64,  41,  60,  84,  65,  38,\n",
       "        55,  57,  87,  27, 141,  58,  78,  73,  42,  83,  69,  66,  59,\n",
       "        85, 117,  81, 124,  75, 116,  77,  67], dtype=int64)"
      ]
     },
     "execution_count": 16,
     "metadata": {},
     "output_type": "execute_result"
    }
   ],
   "source": [
    "df['IPC'].unique()"
   ]
  },
  {
   "cell_type": "code",
   "execution_count": 17,
   "metadata": {},
   "outputs": [
    {
     "data": {
      "text/plain": [
       "array([1, 0, 3, 2, 5, 4], dtype=int64)"
      ]
     },
     "execution_count": 17,
     "metadata": {},
     "output_type": "execute_result"
    }
   ],
   "source": [
    "df['source'].unique()"
   ]
  },
  {
   "cell_type": "code",
   "execution_count": 18,
   "metadata": {},
   "outputs": [
    {
     "data": {
      "text/plain": [
       "array([ 579,   63,   24, ..., 6555, 3100, 5868], dtype=int64)"
      ]
     },
     "execution_count": 18,
     "metadata": {},
     "output_type": "execute_result"
    }
   ],
   "source": [
    "df['introelapse'].unique()"
   ]
  },
  {
   "cell_type": "code",
   "execution_count": 19,
   "metadata": {},
   "outputs": [
    {
     "data": {
      "text/plain": [
       "array([   211,    242,    265, ..., 134429,   6535,   3866], dtype=int64)"
      ]
     },
     "execution_count": 19,
     "metadata": {},
     "output_type": "execute_result"
    }
   ],
   "source": [
    "df['testelapse'].unique()"
   ]
  },
  {
   "cell_type": "markdown",
   "metadata": {},
   "source": [
    "## Part I: 3\n",
    "\n",
    "### The country the respondent took the survey in was not always able to be obtained from the respondents' computers' ISO computer code. For everything else, there still is data, but any 0 represents question that the respondent did not want to answer. As such, it is basically missing data."
   ]
  },
  {
   "cell_type": "code",
   "execution_count": 20,
   "metadata": {},
   "outputs": [
    {
     "data": {
      "text/html": [
       "<div>\n",
       "<style scoped>\n",
       "    .dataframe tbody tr th:only-of-type {\n",
       "        vertical-align: middle;\n",
       "    }\n",
       "\n",
       "    .dataframe tbody tr th {\n",
       "        vertical-align: top;\n",
       "    }\n",
       "\n",
       "    .dataframe thead th {\n",
       "        text-align: right;\n",
       "    }\n",
       "</style>\n",
       "<table border=\"1\" class=\"dataframe\">\n",
       "  <thead>\n",
       "    <tr style=\"text-align: right;\">\n",
       "      <th></th>\n",
       "      <th>Q1</th>\n",
       "      <th>Q2</th>\n",
       "      <th>Q3</th>\n",
       "      <th>Q4</th>\n",
       "      <th>Q5</th>\n",
       "      <th>Q6</th>\n",
       "      <th>Q7</th>\n",
       "      <th>Q8</th>\n",
       "      <th>Q9</th>\n",
       "      <th>Q10</th>\n",
       "      <th>...</th>\n",
       "      <th>IPC</th>\n",
       "      <th>source</th>\n",
       "      <th>engnat</th>\n",
       "      <th>age</th>\n",
       "      <th>education</th>\n",
       "      <th>gender</th>\n",
       "      <th>orientation</th>\n",
       "      <th>race</th>\n",
       "      <th>religion</th>\n",
       "      <th>hand</th>\n",
       "    </tr>\n",
       "  </thead>\n",
       "  <tbody>\n",
       "    <tr>\n",
       "      <td>count</td>\n",
       "      <td>318573.000000</td>\n",
       "      <td>318573.000000</td>\n",
       "      <td>318573.000000</td>\n",
       "      <td>318573.000000</td>\n",
       "      <td>318573.000000</td>\n",
       "      <td>318573.000000</td>\n",
       "      <td>318573.000000</td>\n",
       "      <td>318573.000000</td>\n",
       "      <td>318573.000000</td>\n",
       "      <td>318573.000000</td>\n",
       "      <td>...</td>\n",
       "      <td>318573.000000</td>\n",
       "      <td>318573.000000</td>\n",
       "      <td>318573.000000</td>\n",
       "      <td>3.185730e+05</td>\n",
       "      <td>318573.000000</td>\n",
       "      <td>318573.000000</td>\n",
       "      <td>318573.000000</td>\n",
       "      <td>318573.000000</td>\n",
       "      <td>318573.000000</td>\n",
       "      <td>318573.000000</td>\n",
       "    </tr>\n",
       "    <tr>\n",
       "      <td>mean</td>\n",
       "      <td>1.955445</td>\n",
       "      <td>3.872020</td>\n",
       "      <td>2.959422</td>\n",
       "      <td>3.220091</td>\n",
       "      <td>2.894866</td>\n",
       "      <td>3.729054</td>\n",
       "      <td>3.311486</td>\n",
       "      <td>3.274647</td>\n",
       "      <td>2.722400</td>\n",
       "      <td>3.645061</td>\n",
       "      <td>...</td>\n",
       "      <td>3.065335</td>\n",
       "      <td>0.911223</td>\n",
       "      <td>1.209428</td>\n",
       "      <td>7.111159e+03</td>\n",
       "      <td>2.243247</td>\n",
       "      <td>1.639552</td>\n",
       "      <td>1.877915</td>\n",
       "      <td>5.042342</td>\n",
       "      <td>2.274888</td>\n",
       "      <td>1.171951</td>\n",
       "    </tr>\n",
       "    <tr>\n",
       "      <td>std</td>\n",
       "      <td>1.362475</td>\n",
       "      <td>1.536921</td>\n",
       "      <td>1.674339</td>\n",
       "      <td>1.490337</td>\n",
       "      <td>1.554775</td>\n",
       "      <td>1.348871</td>\n",
       "      <td>1.487084</td>\n",
       "      <td>1.395627</td>\n",
       "      <td>1.543789</td>\n",
       "      <td>1.262263</td>\n",
       "      <td>...</td>\n",
       "      <td>10.577161</td>\n",
       "      <td>1.166674</td>\n",
       "      <td>0.412783</td>\n",
       "      <td>3.808888e+06</td>\n",
       "      <td>0.813903</td>\n",
       "      <td>0.649020</td>\n",
       "      <td>1.231154</td>\n",
       "      <td>1.904835</td>\n",
       "      <td>2.099926</td>\n",
       "      <td>0.459563</td>\n",
       "    </tr>\n",
       "    <tr>\n",
       "      <td>min</td>\n",
       "      <td>0.000000</td>\n",
       "      <td>0.000000</td>\n",
       "      <td>0.000000</td>\n",
       "      <td>0.000000</td>\n",
       "      <td>0.000000</td>\n",
       "      <td>0.000000</td>\n",
       "      <td>0.000000</td>\n",
       "      <td>0.000000</td>\n",
       "      <td>0.000000</td>\n",
       "      <td>0.000000</td>\n",
       "      <td>...</td>\n",
       "      <td>1.000000</td>\n",
       "      <td>0.000000</td>\n",
       "      <td>0.000000</td>\n",
       "      <td>1.300000e+01</td>\n",
       "      <td>0.000000</td>\n",
       "      <td>0.000000</td>\n",
       "      <td>0.000000</td>\n",
       "      <td>0.000000</td>\n",
       "      <td>0.000000</td>\n",
       "      <td>0.000000</td>\n",
       "    </tr>\n",
       "    <tr>\n",
       "      <td>25%</td>\n",
       "      <td>1.000000</td>\n",
       "      <td>3.000000</td>\n",
       "      <td>1.000000</td>\n",
       "      <td>2.000000</td>\n",
       "      <td>1.000000</td>\n",
       "      <td>3.000000</td>\n",
       "      <td>2.000000</td>\n",
       "      <td>2.000000</td>\n",
       "      <td>1.000000</td>\n",
       "      <td>3.000000</td>\n",
       "      <td>...</td>\n",
       "      <td>1.000000</td>\n",
       "      <td>0.000000</td>\n",
       "      <td>1.000000</td>\n",
       "      <td>1.800000e+01</td>\n",
       "      <td>2.000000</td>\n",
       "      <td>1.000000</td>\n",
       "      <td>1.000000</td>\n",
       "      <td>6.000000</td>\n",
       "      <td>1.000000</td>\n",
       "      <td>1.000000</td>\n",
       "    </tr>\n",
       "    <tr>\n",
       "      <td>50%</td>\n",
       "      <td>1.000000</td>\n",
       "      <td>5.000000</td>\n",
       "      <td>3.000000</td>\n",
       "      <td>3.000000</td>\n",
       "      <td>3.000000</td>\n",
       "      <td>4.000000</td>\n",
       "      <td>4.000000</td>\n",
       "      <td>3.000000</td>\n",
       "      <td>3.000000</td>\n",
       "      <td>4.000000</td>\n",
       "      <td>...</td>\n",
       "      <td>1.000000</td>\n",
       "      <td>0.000000</td>\n",
       "      <td>1.000000</td>\n",
       "      <td>2.000000e+01</td>\n",
       "      <td>2.000000</td>\n",
       "      <td>2.000000</td>\n",
       "      <td>1.000000</td>\n",
       "      <td>6.000000</td>\n",
       "      <td>1.000000</td>\n",
       "      <td>1.000000</td>\n",
       "    </tr>\n",
       "    <tr>\n",
       "      <td>75%</td>\n",
       "      <td>3.000000</td>\n",
       "      <td>5.000000</td>\n",
       "      <td>5.000000</td>\n",
       "      <td>5.000000</td>\n",
       "      <td>4.000000</td>\n",
       "      <td>5.000000</td>\n",
       "      <td>5.000000</td>\n",
       "      <td>4.000000</td>\n",
       "      <td>4.000000</td>\n",
       "      <td>5.000000</td>\n",
       "      <td>...</td>\n",
       "      <td>1.000000</td>\n",
       "      <td>2.000000</td>\n",
       "      <td>1.000000</td>\n",
       "      <td>2.500000e+01</td>\n",
       "      <td>3.000000</td>\n",
       "      <td>2.000000</td>\n",
       "      <td>2.000000</td>\n",
       "      <td>6.000000</td>\n",
       "      <td>2.000000</td>\n",
       "      <td>1.000000</td>\n",
       "    </tr>\n",
       "    <tr>\n",
       "      <td>max</td>\n",
       "      <td>5.000000</td>\n",
       "      <td>5.000000</td>\n",
       "      <td>5.000000</td>\n",
       "      <td>5.000000</td>\n",
       "      <td>5.000000</td>\n",
       "      <td>5.000000</td>\n",
       "      <td>5.000000</td>\n",
       "      <td>5.000000</td>\n",
       "      <td>5.000000</td>\n",
       "      <td>5.000000</td>\n",
       "      <td>...</td>\n",
       "      <td>162.000000</td>\n",
       "      <td>5.000000</td>\n",
       "      <td>2.000000</td>\n",
       "      <td>2.147484e+09</td>\n",
       "      <td>4.000000</td>\n",
       "      <td>3.000000</td>\n",
       "      <td>5.000000</td>\n",
       "      <td>7.000000</td>\n",
       "      <td>7.000000</td>\n",
       "      <td>3.000000</td>\n",
       "    </tr>\n",
       "  </tbody>\n",
       "</table>\n",
       "<p>8 rows × 56 columns</p>\n",
       "</div>"
      ],
      "text/plain": [
       "                  Q1             Q2             Q3             Q4  \\\n",
       "count  318573.000000  318573.000000  318573.000000  318573.000000   \n",
       "mean        1.955445       3.872020       2.959422       3.220091   \n",
       "std         1.362475       1.536921       1.674339       1.490337   \n",
       "min         0.000000       0.000000       0.000000       0.000000   \n",
       "25%         1.000000       3.000000       1.000000       2.000000   \n",
       "50%         1.000000       5.000000       3.000000       3.000000   \n",
       "75%         3.000000       5.000000       5.000000       5.000000   \n",
       "max         5.000000       5.000000       5.000000       5.000000   \n",
       "\n",
       "                  Q5             Q6             Q7             Q8  \\\n",
       "count  318573.000000  318573.000000  318573.000000  318573.000000   \n",
       "mean        2.894866       3.729054       3.311486       3.274647   \n",
       "std         1.554775       1.348871       1.487084       1.395627   \n",
       "min         0.000000       0.000000       0.000000       0.000000   \n",
       "25%         1.000000       3.000000       2.000000       2.000000   \n",
       "50%         3.000000       4.000000       4.000000       3.000000   \n",
       "75%         4.000000       5.000000       5.000000       4.000000   \n",
       "max         5.000000       5.000000       5.000000       5.000000   \n",
       "\n",
       "                  Q9            Q10  ...            IPC         source  \\\n",
       "count  318573.000000  318573.000000  ...  318573.000000  318573.000000   \n",
       "mean        2.722400       3.645061  ...       3.065335       0.911223   \n",
       "std         1.543789       1.262263  ...      10.577161       1.166674   \n",
       "min         0.000000       0.000000  ...       1.000000       0.000000   \n",
       "25%         1.000000       3.000000  ...       1.000000       0.000000   \n",
       "50%         3.000000       4.000000  ...       1.000000       0.000000   \n",
       "75%         4.000000       5.000000  ...       1.000000       2.000000   \n",
       "max         5.000000       5.000000  ...     162.000000       5.000000   \n",
       "\n",
       "              engnat           age      education         gender  \\\n",
       "count  318573.000000  3.185730e+05  318573.000000  318573.000000   \n",
       "mean        1.209428  7.111159e+03       2.243247       1.639552   \n",
       "std         0.412783  3.808888e+06       0.813903       0.649020   \n",
       "min         0.000000  1.300000e+01       0.000000       0.000000   \n",
       "25%         1.000000  1.800000e+01       2.000000       1.000000   \n",
       "50%         1.000000  2.000000e+01       2.000000       2.000000   \n",
       "75%         1.000000  2.500000e+01       3.000000       2.000000   \n",
       "max         2.000000  2.147484e+09       4.000000       3.000000   \n",
       "\n",
       "         orientation           race       religion           hand  \n",
       "count  318573.000000  318573.000000  318573.000000  318573.000000  \n",
       "mean        1.877915       5.042342       2.274888       1.171951  \n",
       "std         1.231154       1.904835       2.099926       0.459563  \n",
       "min         0.000000       0.000000       0.000000       0.000000  \n",
       "25%         1.000000       6.000000       1.000000       1.000000  \n",
       "50%         1.000000       6.000000       1.000000       1.000000  \n",
       "75%         2.000000       6.000000       2.000000       1.000000  \n",
       "max         5.000000       7.000000       7.000000       3.000000  \n",
       "\n",
       "[8 rows x 56 columns]"
      ]
     },
     "execution_count": 20,
     "metadata": {},
     "output_type": "execute_result"
    }
   ],
   "source": [
    "df.describe()"
   ]
  },
  {
   "cell_type": "markdown",
   "metadata": {},
   "source": [
    "## Part I: 4\n",
    "\n",
    "### The requested data can be seen above, but it is not not entirely accurate. For example, while questions 1 through 44 are answered on a scale of one to 5, no answer is entered as a value of zero. This means that zeros will bring down the value. Similarly, the average age is so thrown off by extreme answers that the average age is 711 years old solely going off what respondents say. Some values don't even make sense to average, like the values representing a respondent's religion with 7 possible answers on top of not answering. I will revisit these statistics after preprocessing."
   ]
  },
  {
   "cell_type": "markdown",
   "metadata": {},
   "source": [
    "## Part I: 5\n",
    "\n",
    "### Below are the graphs with my interpretations after each one"
   ]
  },
  {
   "cell_type": "code",
   "execution_count": 21,
   "metadata": {},
   "outputs": [
    {
     "data": {
      "text/plain": [
       "array([[<matplotlib.axes._subplots.AxesSubplot object at 0x00000184770486C8>]],\n",
       "      dtype=object)"
      ]
     },
     "execution_count": 21,
     "metadata": {},
     "output_type": "execute_result"
    },
    {
     "data": {
      "image/png": "[encoded data removed]",
      "text/plain": [
       "<Figure size 432x288 with 1 Axes>"
      ]
     },
     "metadata": {
      "needs_background": "light"
     },
     "output_type": "display_data"
    }
   ],
   "source": [
    "df.hist(column='age', bins=len(df['age'].unique()))"
   ]
  },
  {
   "cell_type": "markdown",
   "metadata": {},
   "source": [
    "### Here we can see that the extreme values given for ages rendered the histogram for the ages of the respondents useless. Below, I will remove those rows corresponding to an age over 90 on the basis that the respondent could not be trusted to provide honest data."
   ]
  },
  {
   "cell_type": "code",
   "execution_count": 22,
   "metadata": {},
   "outputs": [
    {
     "data": {
      "text/plain": [
       "(165, 57)"
      ]
     },
     "execution_count": 22,
     "metadata": {},
     "output_type": "execute_result"
    }
   ],
   "source": [
    "lied_age = df.loc[df['age'] > 90]\n",
    "lied_age.shape"
   ]
  },
  {
   "cell_type": "markdown",
   "metadata": {},
   "source": [
    "### Removing 165 rows from a dataset with 318,000+ rows will not be a significant loss."
   ]
  },
  {
   "cell_type": "code",
   "execution_count": 23,
   "metadata": {},
   "outputs": [
    {
     "data": {
      "text/plain": [
       "array([[<matplotlib.axes._subplots.AxesSubplot object at 0x0000018477021708>]],\n",
       "      dtype=object)"
      ]
     },
     "execution_count": 23,
     "metadata": {},
     "output_type": "execute_result"
    },
    {
     "data": {
      "image/png": "[encoded data removed]",
      "text/plain": [
       "<Figure size 432x288 with 1 Axes>"
      ]
     },
     "metadata": {
      "needs_background": "light"
     },
     "output_type": "display_data"
    }
   ],
   "source": [
    "df = df[df['age'] < 91]\n",
    "df.hist(column='age', bins=len(df['age'].unique()))"
   ]
  },
  {
   "cell_type": "markdown",
   "metadata": {},
   "source": [
    "### The ages of respondents matches what would be expected on a survey from a university that was distributed online. The bulk of respondents ages match that of grade school and undergraduate students, the very people that are often incentivized to answer these surveys in psychology classes."
   ]
  },
  {
   "cell_type": "code",
   "execution_count": 24,
   "metadata": {},
   "outputs": [
    {
     "data": {
      "text/plain": [
       "array([[<matplotlib.axes._subplots.AxesSubplot object at 0x00000184771EA448>]],\n",
       "      dtype=object)"
      ]
     },
     "execution_count": 24,
     "metadata": {},
     "output_type": "execute_result"
    },
    {
     "data": {
      "image/png": "[encoded data removed]",
      "text/plain": [
       "<Figure size 432x288 with 1 Axes>"
      ]
     },
     "metadata": {
      "needs_background": "light"
     },
     "output_type": "display_data"
    }
   ],
   "source": [
    "df.hist(column='source', bins=len(df['source'].unique()))"
   ]
  },
  {
   "cell_type": "markdown",
   "metadata": {},
   "source": [
    "### In this histogram, 0=no response, 1=google, 2=tumblr, 3=facebook/messenger, 4=reddit, 5=bing, 0=other or unknown. This seems to support the theory that a massive portion of respondents were directed to take the survey, and it is not unreasonable to believe that the \"other or unknown\" were in fact direct links given to students."
   ]
  },
  {
   "cell_type": "code",
   "execution_count": 25,
   "metadata": {},
   "outputs": [
    {
     "data": {
      "text/plain": [
       "array([[<matplotlib.axes._subplots.AxesSubplot object at 0x000001847720C588>]],\n",
       "      dtype=object)"
      ]
     },
     "execution_count": 25,
     "metadata": {},
     "output_type": "execute_result"
    },
    {
     "data": {
      "image/png": "[encoded data removed]",
      "text/plain": [
       "<Figure size 432x288 with 1 Axes>"
      ]
     },
     "metadata": {
      "needs_background": "light"
     },
     "output_type": "display_data"
    }
   ],
   "source": [
    "df.hist(column='gender', bins=4)"
   ]
  },
  {
   "cell_type": "markdown",
   "metadata": {},
   "source": [
    "### In this graph 0=No Response, 1=Male, 2=Female, 3=Non-binary. Here we see that a there were about 20,000 more female respondents than male respondents. There were also around 30,000 non-binary respondents."
   ]
  },
  {
   "cell_type": "code",
   "execution_count": 26,
   "metadata": {},
   "outputs": [
    {
     "data": {
      "text/plain": [
       "array([[<matplotlib.axes._subplots.AxesSubplot object at 0x000001847748B488>]],\n",
       "      dtype=object)"
      ]
     },
     "execution_count": 26,
     "metadata": {},
     "output_type": "execute_result"
    },
    {
     "data": {
      "image/png": "[encoded data removed]",
      "text/plain": [
       "<Figure size 432x288 with 1 Axes>"
      ]
     },
     "metadata": {
      "needs_background": "light"
     },
     "output_type": "display_data"
    }
   ],
   "source": [
    "df.hist(column='orientation', bins=6)"
   ]
  },
  {
   "cell_type": "markdown",
   "metadata": {},
   "source": [
    "### For this histogram 0=No Response, 1=Heterosexual, 2=Bisexual, 3=Homosexual, 4=Asexual, 5=Other. This graph shows that survey respondents had diverse sexual orientations. Let's see how they break down by gender."
   ]
  },
  {
   "cell_type": "code",
   "execution_count": 27,
   "metadata": {},
   "outputs": [
    {
     "data": {
      "text/html": [
       "<div>\n",
       "<style scoped>\n",
       "    .dataframe tbody tr th:only-of-type {\n",
       "        vertical-align: middle;\n",
       "    }\n",
       "\n",
       "    .dataframe tbody tr th {\n",
       "        vertical-align: top;\n",
       "    }\n",
       "\n",
       "    .dataframe thead th {\n",
       "        text-align: right;\n",
       "    }\n",
       "</style>\n",
       "<table border=\"1\" class=\"dataframe\">\n",
       "  <thead>\n",
       "    <tr style=\"text-align: right;\">\n",
       "      <th></th>\n",
       "      <th>Q1</th>\n",
       "      <th>Q2</th>\n",
       "      <th>Q3</th>\n",
       "      <th>Q4</th>\n",
       "      <th>Q5</th>\n",
       "      <th>Q6</th>\n",
       "      <th>Q7</th>\n",
       "      <th>Q8</th>\n",
       "      <th>Q9</th>\n",
       "      <th>Q10</th>\n",
       "      <th>...</th>\n",
       "      <th>age</th>\n",
       "      <th>education</th>\n",
       "      <th>gender</th>\n",
       "      <th>orientation</th>\n",
       "      <th>race</th>\n",
       "      <th>religion</th>\n",
       "      <th>hand</th>\n",
       "      <th>male_orientation</th>\n",
       "      <th>female_orientation</th>\n",
       "      <th>nonbinary_orientation</th>\n",
       "    </tr>\n",
       "  </thead>\n",
       "  <tbody>\n",
       "    <tr>\n",
       "      <td>0</td>\n",
       "      <td>1</td>\n",
       "      <td>4</td>\n",
       "      <td>1</td>\n",
       "      <td>5</td>\n",
       "      <td>2</td>\n",
       "      <td>5</td>\n",
       "      <td>1</td>\n",
       "      <td>5</td>\n",
       "      <td>1</td>\n",
       "      <td>4</td>\n",
       "      <td>...</td>\n",
       "      <td>18</td>\n",
       "      <td>2</td>\n",
       "      <td>2</td>\n",
       "      <td>2</td>\n",
       "      <td>6</td>\n",
       "      <td>1</td>\n",
       "      <td>1</td>\n",
       "      <td>NaN</td>\n",
       "      <td>2.0</td>\n",
       "      <td>NaN</td>\n",
       "    </tr>\n",
       "    <tr>\n",
       "      <td>1</td>\n",
       "      <td>1</td>\n",
       "      <td>5</td>\n",
       "      <td>1</td>\n",
       "      <td>1</td>\n",
       "      <td>1</td>\n",
       "      <td>4</td>\n",
       "      <td>5</td>\n",
       "      <td>1</td>\n",
       "      <td>5</td>\n",
       "      <td>5</td>\n",
       "      <td>...</td>\n",
       "      <td>19</td>\n",
       "      <td>2</td>\n",
       "      <td>1</td>\n",
       "      <td>2</td>\n",
       "      <td>6</td>\n",
       "      <td>1</td>\n",
       "      <td>2</td>\n",
       "      <td>2.0</td>\n",
       "      <td>NaN</td>\n",
       "      <td>NaN</td>\n",
       "    </tr>\n",
       "    <tr>\n",
       "      <td>2</td>\n",
       "      <td>1</td>\n",
       "      <td>4</td>\n",
       "      <td>3</td>\n",
       "      <td>3</td>\n",
       "      <td>2</td>\n",
       "      <td>5</td>\n",
       "      <td>2</td>\n",
       "      <td>5</td>\n",
       "      <td>2</td>\n",
       "      <td>3</td>\n",
       "      <td>...</td>\n",
       "      <td>18</td>\n",
       "      <td>2</td>\n",
       "      <td>2</td>\n",
       "      <td>1</td>\n",
       "      <td>1</td>\n",
       "      <td>1</td>\n",
       "      <td>1</td>\n",
       "      <td>NaN</td>\n",
       "      <td>1.0</td>\n",
       "      <td>NaN</td>\n",
       "    </tr>\n",
       "    <tr>\n",
       "      <td>3</td>\n",
       "      <td>1</td>\n",
       "      <td>1</td>\n",
       "      <td>4</td>\n",
       "      <td>4</td>\n",
       "      <td>5</td>\n",
       "      <td>4</td>\n",
       "      <td>5</td>\n",
       "      <td>5</td>\n",
       "      <td>4</td>\n",
       "      <td>2</td>\n",
       "      <td>...</td>\n",
       "      <td>19</td>\n",
       "      <td>3</td>\n",
       "      <td>2</td>\n",
       "      <td>1</td>\n",
       "      <td>6</td>\n",
       "      <td>2</td>\n",
       "      <td>1</td>\n",
       "      <td>NaN</td>\n",
       "      <td>1.0</td>\n",
       "      <td>NaN</td>\n",
       "    </tr>\n",
       "    <tr>\n",
       "      <td>4</td>\n",
       "      <td>1</td>\n",
       "      <td>2</td>\n",
       "      <td>3</td>\n",
       "      <td>4</td>\n",
       "      <td>3</td>\n",
       "      <td>3</td>\n",
       "      <td>5</td>\n",
       "      <td>1</td>\n",
       "      <td>3</td>\n",
       "      <td>2</td>\n",
       "      <td>...</td>\n",
       "      <td>16</td>\n",
       "      <td>2</td>\n",
       "      <td>1</td>\n",
       "      <td>1</td>\n",
       "      <td>6</td>\n",
       "      <td>2</td>\n",
       "      <td>1</td>\n",
       "      <td>1.0</td>\n",
       "      <td>NaN</td>\n",
       "      <td>NaN</td>\n",
       "    </tr>\n",
       "  </tbody>\n",
       "</table>\n",
       "<p>5 rows × 60 columns</p>\n",
       "</div>"
      ],
      "text/plain": [
       "   Q1  Q2  Q3  Q4  Q5  Q6  Q7  Q8  Q9  Q10  ...  age  education  gender  \\\n",
       "0   1   4   1   5   2   5   1   5   1    4  ...   18          2       2   \n",
       "1   1   5   1   1   1   4   5   1   5    5  ...   19          2       1   \n",
       "2   1   4   3   3   2   5   2   5   2    3  ...   18          2       2   \n",
       "3   1   1   4   4   5   4   5   5   4    2  ...   19          3       2   \n",
       "4   1   2   3   4   3   3   5   1   3    2  ...   16          2       1   \n",
       "\n",
       "   orientation  race  religion  hand  male_orientation  female_orientation  \\\n",
       "0            2     6         1     1               NaN                 2.0   \n",
       "1            2     6         1     2               2.0                 NaN   \n",
       "2            1     1         1     1               NaN                 1.0   \n",
       "3            1     6         2     1               NaN                 1.0   \n",
       "4            1     6         2     1               1.0                 NaN   \n",
       "\n",
       "   nonbinary_orientation  \n",
       "0                    NaN  \n",
       "1                    NaN  \n",
       "2                    NaN  \n",
       "3                    NaN  \n",
       "4                    NaN  \n",
       "\n",
       "[5 rows x 60 columns]"
      ]
     },
     "execution_count": 27,
     "metadata": {},
     "output_type": "execute_result"
    }
   ],
   "source": [
    "df['male_orientation'] = np.NaN\n",
    "df['female_orientation'] = np.NaN\n",
    "df['nonbinary_orientation'] = np.NaN\n",
    "\n",
    "#cosider converting to ints\n",
    "\n",
    "df.loc[df['gender'] == 1, 'male_orientation'] = df['orientation']\n",
    "df.loc[df['gender'] == 2, 'female_orientation'] = df['orientation']\n",
    "df.loc[df['gender'] == 3, 'nonbinary_orientation'] = df['orientation']\n",
    "\n",
    "df.head()"
   ]
  },
  {
   "cell_type": "code",
   "execution_count": 28,
   "metadata": {},
   "outputs": [
    {
     "data": {
      "text/plain": [
       "<matplotlib.axes._subplots.AxesSubplot at 0x18477521648>"
      ]
     },
     "execution_count": 28,
     "metadata": {},
     "output_type": "execute_result"
    },
    {
     "data": {
      "image/png": "[encoded data removed]",
      "text/plain": [
       "<Figure size 432x288 with 1 Axes>"
      ]
     },
     "metadata": {
      "needs_background": "light"
     },
     "output_type": "display_data"
    }
   ],
   "source": [
    "df.plot.hist(y=['male_orientation', 'female_orientation', 'nonbinary_orientation'], bins=5, alpha=0.5)"
   ]
  },
  {
   "cell_type": "markdown",
   "metadata": {},
   "source": [
    "### Like the last histogram, 0=No Response, 1=Heterosexual, 2=Bisexual, 3=Homosexual, 4=Asexual, 5=Other. This histogram is very interesting, because it suggests that female respondents are significantly more likely to identify as neither straight nor asexual than male or non-binary respondents. Also interesting is that non-binary respondents leaned hard towards bisexuality or alternative sexualities."
   ]
  },
  {
   "cell_type": "code",
   "execution_count": 29,
   "metadata": {},
   "outputs": [],
   "source": [
    "df.drop(columns=['male_orientation', 'female_orientation', 'nonbinary_orientation'], inplace=True)"
   ]
  },
  {
   "cell_type": "markdown",
   "metadata": {},
   "source": [
    "# Part II: 1\n",
    "\n",
    "### Using the survey results, I will attempt to guess determine respondent's gender based on seemingly unrelated facts about the respondents. In theory, the models will pick up on gender stereotypes. The weaker the stereotype, the less accurate the model should be. However, it is possible that the models will find entirely unthought of patterns."
   ]
  },
  {
   "cell_type": "markdown",
   "metadata": {},
   "source": [
    "# Part II: 2"
   ]
  },
  {
   "cell_type": "code",
   "execution_count": 30,
   "metadata": {},
   "outputs": [],
   "source": [
    "# get rid of data without target information\n",
    "df = df.loc[df['gender'] != 0]"
   ]
  },
  {
   "cell_type": "code",
   "execution_count": 31,
   "metadata": {},
   "outputs": [
    {
     "name": "stderr",
     "output_type": "stream",
     "text": [
      "C:\\Users\\joeyn\\Anaconda3\\lib\\site-packages\\pandas\\core\\indexing.py:494: SettingWithCopyWarning: \n",
      "A value is trying to be set on a copy of a slice from a DataFrame.\n",
      "Try using .loc[row_indexer,col_indexer] = value instead\n",
      "\n",
      "See the caveats in the documentation: http://pandas.pydata.org/pandas-docs/stable/user_guide/indexing.html#returning-a-view-versus-a-copy\n",
      "  self.obj[item] = s\n"
     ]
    },
    {
     "data": {
      "text/plain": [
       "{1, 2, 3, 4, 5}"
      ]
     },
     "execution_count": 31,
     "metadata": {},
     "output_type": "execute_result"
    }
   ],
   "source": [
    "for Q in Qs:\n",
    "    df.loc[df[Q] == 0, Q] = 3\n",
    "\n",
    "responses = set()\n",
    "\n",
    "for Q in Qs:\n",
    "    for response in df[Q].unique():\n",
    "        responses.add(response)\n",
    "\n",
    "responses"
   ]
  },
  {
   "cell_type": "code",
   "execution_count": 32,
   "metadata": {},
   "outputs": [
    {
     "name": "stderr",
     "output_type": "stream",
     "text": [
      "C:\\Users\\joeyn\\Anaconda3\\lib\\site-packages\\pandas\\core\\frame.py:3494: SettingWithCopyWarning: \n",
      "A value is trying to be set on a copy of a slice from a DataFrame.\n",
      "Try using .loc[row_indexer,col_indexer] = value instead\n",
      "\n",
      "See the caveats in the documentation: http://pandas.pydata.org/pandas-docs/stable/user_guide/indexing.html#returning-a-view-versus-a-copy\n",
      "  self[k1] = value[k2]\n"
     ]
    },
    {
     "data": {
      "text/html": [
       "<div>\n",
       "<style scoped>\n",
       "    .dataframe tbody tr th:only-of-type {\n",
       "        vertical-align: middle;\n",
       "    }\n",
       "\n",
       "    .dataframe tbody tr th {\n",
       "        vertical-align: top;\n",
       "    }\n",
       "\n",
       "    .dataframe thead th {\n",
       "        text-align: right;\n",
       "    }\n",
       "</style>\n",
       "<table border=\"1\" class=\"dataframe\">\n",
       "  <thead>\n",
       "    <tr style=\"text-align: right;\">\n",
       "      <th></th>\n",
       "      <th>Q1</th>\n",
       "      <th>Q2</th>\n",
       "      <th>Q3</th>\n",
       "      <th>Q4</th>\n",
       "      <th>Q5</th>\n",
       "      <th>Q6</th>\n",
       "      <th>Q7</th>\n",
       "      <th>Q8</th>\n",
       "      <th>Q9</th>\n",
       "      <th>Q10</th>\n",
       "      <th>...</th>\n",
       "      <th>religion_1.0</th>\n",
       "      <th>religion_2.0</th>\n",
       "      <th>religion_3.0</th>\n",
       "      <th>religion_4.0</th>\n",
       "      <th>religion_5.0</th>\n",
       "      <th>religion_6.0</th>\n",
       "      <th>religion_7.0</th>\n",
       "      <th>hand_1.0</th>\n",
       "      <th>hand_2.0</th>\n",
       "      <th>hand_3.0</th>\n",
       "    </tr>\n",
       "  </thead>\n",
       "  <tbody>\n",
       "    <tr>\n",
       "      <td>0</td>\n",
       "      <td>1</td>\n",
       "      <td>4</td>\n",
       "      <td>1</td>\n",
       "      <td>5</td>\n",
       "      <td>2</td>\n",
       "      <td>5</td>\n",
       "      <td>1</td>\n",
       "      <td>5</td>\n",
       "      <td>1</td>\n",
       "      <td>4</td>\n",
       "      <td>...</td>\n",
       "      <td>1</td>\n",
       "      <td>0</td>\n",
       "      <td>0</td>\n",
       "      <td>0</td>\n",
       "      <td>0</td>\n",
       "      <td>0</td>\n",
       "      <td>0</td>\n",
       "      <td>1</td>\n",
       "      <td>0</td>\n",
       "      <td>0</td>\n",
       "    </tr>\n",
       "    <tr>\n",
       "      <td>1</td>\n",
       "      <td>1</td>\n",
       "      <td>5</td>\n",
       "      <td>1</td>\n",
       "      <td>1</td>\n",
       "      <td>1</td>\n",
       "      <td>4</td>\n",
       "      <td>5</td>\n",
       "      <td>1</td>\n",
       "      <td>5</td>\n",
       "      <td>5</td>\n",
       "      <td>...</td>\n",
       "      <td>1</td>\n",
       "      <td>0</td>\n",
       "      <td>0</td>\n",
       "      <td>0</td>\n",
       "      <td>0</td>\n",
       "      <td>0</td>\n",
       "      <td>0</td>\n",
       "      <td>0</td>\n",
       "      <td>1</td>\n",
       "      <td>0</td>\n",
       "    </tr>\n",
       "    <tr>\n",
       "      <td>2</td>\n",
       "      <td>1</td>\n",
       "      <td>4</td>\n",
       "      <td>3</td>\n",
       "      <td>3</td>\n",
       "      <td>2</td>\n",
       "      <td>5</td>\n",
       "      <td>2</td>\n",
       "      <td>5</td>\n",
       "      <td>2</td>\n",
       "      <td>3</td>\n",
       "      <td>...</td>\n",
       "      <td>1</td>\n",
       "      <td>0</td>\n",
       "      <td>0</td>\n",
       "      <td>0</td>\n",
       "      <td>0</td>\n",
       "      <td>0</td>\n",
       "      <td>0</td>\n",
       "      <td>1</td>\n",
       "      <td>0</td>\n",
       "      <td>0</td>\n",
       "    </tr>\n",
       "    <tr>\n",
       "      <td>3</td>\n",
       "      <td>1</td>\n",
       "      <td>1</td>\n",
       "      <td>4</td>\n",
       "      <td>4</td>\n",
       "      <td>5</td>\n",
       "      <td>4</td>\n",
       "      <td>5</td>\n",
       "      <td>5</td>\n",
       "      <td>4</td>\n",
       "      <td>2</td>\n",
       "      <td>...</td>\n",
       "      <td>0</td>\n",
       "      <td>1</td>\n",
       "      <td>0</td>\n",
       "      <td>0</td>\n",
       "      <td>0</td>\n",
       "      <td>0</td>\n",
       "      <td>0</td>\n",
       "      <td>1</td>\n",
       "      <td>0</td>\n",
       "      <td>0</td>\n",
       "    </tr>\n",
       "    <tr>\n",
       "      <td>4</td>\n",
       "      <td>1</td>\n",
       "      <td>2</td>\n",
       "      <td>3</td>\n",
       "      <td>4</td>\n",
       "      <td>3</td>\n",
       "      <td>3</td>\n",
       "      <td>5</td>\n",
       "      <td>1</td>\n",
       "      <td>3</td>\n",
       "      <td>2</td>\n",
       "      <td>...</td>\n",
       "      <td>0</td>\n",
       "      <td>1</td>\n",
       "      <td>0</td>\n",
       "      <td>0</td>\n",
       "      <td>0</td>\n",
       "      <td>0</td>\n",
       "      <td>0</td>\n",
       "      <td>1</td>\n",
       "      <td>0</td>\n",
       "      <td>0</td>\n",
       "    </tr>\n",
       "  </tbody>\n",
       "</table>\n",
       "<p>5 rows × 351 columns</p>\n",
       "</div>"
      ],
      "text/plain": [
       "   Q1  Q2  Q3  Q4  Q5  Q6  Q7  Q8  Q9  Q10  ...  religion_1.0  religion_2.0  \\\n",
       "0   1   4   1   5   2   5   1   5   1    4  ...             1             0   \n",
       "1   1   5   1   1   1   4   5   1   5    5  ...             1             0   \n",
       "2   1   4   3   3   2   5   2   5   2    3  ...             1             0   \n",
       "3   1   1   4   4   5   4   5   5   4    2  ...             0             1   \n",
       "4   1   2   3   4   3   3   5   1   3    2  ...             0             1   \n",
       "\n",
       "   religion_3.0  religion_4.0  religion_5.0  religion_6.0  religion_7.0  \\\n",
       "0             0             0             0             0             0   \n",
       "1             0             0             0             0             0   \n",
       "2             0             0             0             0             0   \n",
       "3             0             0             0             0             0   \n",
       "4             0             0             0             0             0   \n",
       "\n",
       "   hand_1.0  hand_2.0  hand_3.0  \n",
       "0         1         0         0  \n",
       "1         0         1         0  \n",
       "2         1         0         0  \n",
       "3         1         0         0  \n",
       "4         1         0         0  \n",
       "\n",
       "[5 rows x 351 columns]"
      ]
     },
     "execution_count": 32,
     "metadata": {},
     "output_type": "execute_result"
    }
   ],
   "source": [
    "mode_keys = ['engnat', 'education', 'orientation', 'race', 'religion', 'hand', 'country', 'IPC', 'source']\n",
    "mean_keys = ['age', 'introelapse', 'testelapse']\n",
    "\n",
    "for key in mode_keys:\n",
    "    mode = df[key].mode()\n",
    "    df.loc[df[key] == 0, key] = mode\n",
    "\n",
    "for key in mean_keys:\n",
    "    mean = int(df[key].mean())\n",
    "    df.loc[df[key] == 0, key] = mean\n",
    "    \n",
    "df['introelapse'].astype('int64')\n",
    "\n",
    "df[['engnat', 'education', 'orientation', 'race', 'religion', 'hand', 'country', 'IPC', 'source']] = df[['engnat', 'education', 'orientation', 'race', 'religion', 'hand', 'country', 'IPC', 'source']].astype('object')\n",
    "df.dtypes\n",
    " \n",
    "new_df = df.copy()\n",
    "df = pd.get_dummies(df)\n",
    "\n",
    "df.head()"
   ]
  },
  {
   "cell_type": "code",
   "execution_count": 33,
   "metadata": {},
   "outputs": [],
   "source": [
    "y = df['gender'].to_numpy()\n",
    "x = df.to_numpy()"
   ]
  },
  {
   "cell_type": "code",
   "execution_count": 34,
   "metadata": {},
   "outputs": [
    {
     "data": {
      "text/plain": [
       "array([[1, 4, 1, ..., 1, 0, 0],\n",
       "       [1, 5, 1, ..., 0, 1, 0],\n",
       "       [1, 4, 3, ..., 1, 0, 0],\n",
       "       ...,\n",
       "       [4, 1, 5, ..., 1, 0, 0],\n",
       "       [5, 3, 5, ..., 1, 0, 0],\n",
       "       [1, 5, 5, ..., 1, 0, 0]], dtype=int64)"
      ]
     },
     "execution_count": 34,
     "metadata": {},
     "output_type": "execute_result"
    }
   ],
   "source": [
    "x"
   ]
  },
  {
   "cell_type": "code",
   "execution_count": 35,
   "metadata": {},
   "outputs": [
    {
     "data": {
      "text/plain": [
       "array([2, 1, 2, ..., 1, 1, 2], dtype=int64)"
      ]
     },
     "execution_count": 35,
     "metadata": {},
     "output_type": "execute_result"
    }
   ],
   "source": [
    "y"
   ]
  },
  {
   "cell_type": "code",
   "execution_count": 36,
   "metadata": {},
   "outputs": [],
   "source": [
    "train_features, test_features, train_targets, test_targets = train_test_split(x, y, test_size=0.2, random_state=42)"
   ]
  },
  {
   "cell_type": "markdown",
   "metadata": {},
   "source": [
    "# Part II: 3"
   ]
  },
  {
   "cell_type": "code",
   "execution_count": 37,
   "metadata": {},
   "outputs": [],
   "source": [
    "scores = []"
   ]
  },
  {
   "cell_type": "code",
   "execution_count": 38,
   "metadata": {},
   "outputs": [
    {
     "name": "stdout",
     "output_type": "stream",
     "text": [
      "[LibLinear]"
     ]
    },
    {
     "name": "stderr",
     "output_type": "stream",
     "text": [
      "C:\\Users\\joeyn\\Anaconda3\\lib\\site-packages\\sklearn\\svm\\base.py:929: ConvergenceWarning: Liblinear failed to converge, increase the number of iterations.\n",
      "  \"the number of iterations.\", ConvergenceWarning)\n"
     ]
    },
    {
     "data": {
      "text/plain": [
       "LinearSVC(C=1.0, class_weight=None, dual=True, fit_intercept=True,\n",
       "          intercept_scaling=1, loss='squared_hinge', max_iter=1000,\n",
       "          multi_class='ovr', penalty='l2', random_state=42, tol=0.0001,\n",
       "          verbose=1)"
      ]
     },
     "execution_count": 38,
     "metadata": {},
     "output_type": "execute_result"
    }
   ],
   "source": [
    "clf_1 = LinearSVC(random_state=42, verbose=1)\n",
    "clf_1.fit(train_features, train_targets)"
   ]
  },
  {
   "cell_type": "code",
   "execution_count": 39,
   "metadata": {},
   "outputs": [
    {
     "data": {
      "text/plain": [
       "0.9285316177524404"
      ]
     },
     "execution_count": 39,
     "metadata": {},
     "output_type": "execute_result"
    }
   ],
   "source": [
    "linearSVC_score = clf_1.score(test_features, test_targets)\n",
    "scores.append(linearSVC_score)\n",
    "linearSVC_score"
   ]
  },
  {
   "cell_type": "code",
   "execution_count": 40,
   "metadata": {},
   "outputs": [
    {
     "data": {
      "text/plain": [
       "KNeighborsClassifier(algorithm='auto', leaf_size=30, metric='minkowski',\n",
       "                     metric_params=None, n_jobs=None, n_neighbors=5, p=2,\n",
       "                     weights='uniform')"
      ]
     },
     "execution_count": 40,
     "metadata": {},
     "output_type": "execute_result"
    }
   ],
   "source": [
    "clf_2 = KNeighborsClassifier()\n",
    "clf_2.fit(train_features, train_targets)"
   ]
  },
  {
   "cell_type": "code",
   "execution_count": 41,
   "metadata": {},
   "outputs": [
    {
     "data": {
      "text/plain": [
       "0.6980110514833511"
      ]
     },
     "execution_count": 41,
     "metadata": {},
     "output_type": "execute_result"
    }
   ],
   "source": [
    "knn_score = clf_2.score(test_features, test_targets)\n",
    "scores.append(knn_score)\n",
    "knn_score"
   ]
  },
  {
   "cell_type": "code",
   "execution_count": 42,
   "metadata": {},
   "outputs": [
    {
     "data": {
      "text/plain": [
       "GaussianNB(priors=None, var_smoothing=1e-09)"
      ]
     },
     "execution_count": 42,
     "metadata": {},
     "output_type": "execute_result"
    }
   ],
   "source": [
    "clf_3 = GaussianNB()\n",
    "clf_3.fit(train_features, train_targets)"
   ]
  },
  {
   "cell_type": "code",
   "execution_count": 43,
   "metadata": {},
   "outputs": [
    {
     "data": {
      "text/plain": [
       "0.7456884883035814"
      ]
     },
     "execution_count": 43,
     "metadata": {},
     "output_type": "execute_result"
    }
   ],
   "source": [
    "gaussianNB_score = clf_3.score(test_features, test_targets)\n",
    "scores.append(gaussianNB_score)\n",
    "gaussianNB_score"
   ]
  },
  {
   "cell_type": "code",
   "execution_count": 44,
   "metadata": {},
   "outputs": [
    {
     "data": {
      "text/plain": [
       "BernoulliNB(alpha=1.0, binarize=0.0, class_prior=None, fit_prior=True)"
      ]
     },
     "execution_count": 44,
     "metadata": {},
     "output_type": "execute_result"
    }
   ],
   "source": [
    "clf_4 = BernoulliNB()\n",
    "clf_4.fit(train_features, train_targets)"
   ]
  },
  {
   "cell_type": "code",
   "execution_count": 45,
   "metadata": {},
   "outputs": [
    {
     "data": {
      "text/plain": [
       "0.5530359730560377"
      ]
     },
     "execution_count": 45,
     "metadata": {},
     "output_type": "execute_result"
    }
   ],
   "source": [
    "bernoulliNB_score = clf_4.score(test_features, test_targets)\n",
    "scores.append(bernoulliNB_score)\n",
    "bernoulliNB_score"
   ]
  },
  {
   "cell_type": "code",
   "execution_count": 46,
   "metadata": {},
   "outputs": [
    {
     "data": {
      "text/plain": [
       "SGDClassifier(alpha=0.0001, average=False, class_weight=None,\n",
       "              early_stopping=False, epsilon=0.1, eta0=0.0, fit_intercept=True,\n",
       "              l1_ratio=0.15, learning_rate='optimal', loss='hinge',\n",
       "              max_iter=1000, n_iter_no_change=5, n_jobs=None, penalty='l2',\n",
       "              power_t=0.5, random_state=42, shuffle=True, tol=0.001,\n",
       "              validation_fraction=0.1, verbose=0, warm_start=False)"
      ]
     },
     "execution_count": 46,
     "metadata": {},
     "output_type": "execute_result"
    }
   ],
   "source": [
    "clf_5 = SGDClassifier(random_state=42)\n",
    "clf_5.fit(train_features, train_targets)"
   ]
  },
  {
   "cell_type": "code",
   "execution_count": 47,
   "metadata": {},
   "outputs": [
    {
     "data": {
      "text/plain": [
       "0.4979377995764129"
      ]
     },
     "execution_count": 47,
     "metadata": {},
     "output_type": "execute_result"
    }
   ],
   "source": [
    "sgd_classifier_score = clf_5.score(test_features, test_targets)\n",
    "scores.append(sgd_classifier_score)\n",
    "sgd_classifier_score"
   ]
  },
  {
   "cell_type": "markdown",
   "metadata": {},
   "source": [
    "# Part II: 4"
   ]
  },
  {
   "cell_type": "code",
   "execution_count": 49,
   "metadata": {},
   "outputs": [
    {
     "data": {
      "text/plain": [
       "<BarContainer object of 5 artists>"
      ]
     },
     "execution_count": 49,
     "metadata": {},
     "output_type": "execute_result"
    },
    {
     "data": {
      "image/png": "[encoded data removed]",
      "text/plain": [
       "<Figure size 432x288 with 1 Axes>"
      ]
     },
     "metadata": {
      "needs_background": "light"
     },
     "output_type": "display_data"
    }
   ],
   "source": [
    "plt.bar(['linearSVC', 'KNN', 'GaussianNB', 'BernoulliNB', 'SGD_classifier'], scores)"
   ]
  },
  {
   "cell_type": "markdown",
   "metadata": {},
   "source": [
    "### LinearSVC was massively successful. I was pleasantly surprised to see the .93 score, as I was expecting closer to 0.60. Gaussian Naive Bayes also did admirably with a score of 0.75, so it was unexpected to see Bernoulli Naive Bayes drop down to 0.55. The biggest thing I've learned from this project is how much further I have to go to develop an intuition for these things. I have an increased respect for support vector clustering. It's also become increasingly apparent how hard it is to predict the usefulness of data in a dataset with a large amount of features."
   ]
  },
  {
   "cell_type": "markdown",
   "metadata": {},
   "source": [
    "# Part III: 1"
   ]
  },
  {
   "cell_type": "markdown",
   "metadata": {},
   "source": [
    "### This was a survey given to high school students in math and Portuguese classes at two high schools. The data was originally used to assess which students were at risk for not completing high school. The survey includes questions about outgoing behavior. I want to know how the rates of outgoing behavior are reflected by people's enjoyment of dancing, so I will compare the ratio of people who said they are outgoing to the ratios of people who enjoy dancing alone and really like dancing."
   ]
  },
  {
   "cell_type": "markdown",
   "metadata": {},
   "source": [
    "### Student alcohol consumption data from https://www.kaggle.com/uciml/student-alcohol-consumption?select=student-mat.csv"
   ]
  },
  {
   "cell_type": "markdown",
   "metadata": {},
   "source": [
    "### This information is given on the Kaggle page if you are interested\n",
    "\n",
    "Context:\n",
    "The data were obtained in a survey of students math and portuguese language courses in secondary school. It contains a lot of interesting social, gender and study information about students. You can use it for some EDA or try to predict students final grade.\n",
    "\n",
    "Content:\n",
    "Attributes for both student-mat.csv (Math course) and student-por.csv (Portuguese language course) datasets:\n",
    "\n",
    "school - student's school (binary: 'GP' - Gabriel Pereira or 'MS' - Mousinho da Silveira)\n",
    "sex - student's sex (binary: 'F' - female or 'M' - male)\n",
    "age - student's age (numeric: from 15 to 22)\n",
    "address - student's home address type (binary: 'U' - urban or 'R' - rural)\n",
    "famsize - family size (binary: 'LE3' - less or equal to 3 or 'GT3' - greater than 3)\n",
    "Pstatus - parent's cohabitation status (binary: 'T' - living together or 'A' - apart)\n",
    "Medu - mother's education (numeric: 0 - none, 1 - primary education (4th grade), 2 – 5th to 9th grade, 3 – secondary education or 4 – higher education)\n",
    "Fedu - father's education (numeric: 0 - none, 1 - primary education (4th grade), 2 – 5th to 9th grade, 3 – secondary education or 4 – higher education)\n",
    "Mjob - mother's job (nominal: 'teacher', 'health' care related, civil 'services' (e.g. administrative or police), 'at_home' or 'other')\n",
    "Fjob - father's job (nominal: 'teacher', 'health' care related, civil 'services' (e.g. administrative or police), 'at_home' or 'other')\n",
    "reason - reason to choose this school (nominal: close to 'home', school 'reputation', 'course' preference or 'other')\n",
    "guardian - student's guardian (nominal: 'mother', 'father' or 'other')\n",
    "traveltime - home to school travel time (numeric: 1 - 1 hour)\n",
    "studytime - weekly study time (numeric: 1 - 10 hours)\n",
    "failures - number of past class failures (numeric: n if 1<=n<3, else 4)\n",
    "schoolsup - extra educational support (binary: yes or no)\n",
    "famsup - family educational support (binary: yes or no)\n",
    "paid - extra paid classes within the course subject (Math or Portuguese) (binary: yes or no)\n",
    "activities - extra-curricular activities (binary: yes or no)\n",
    "nursery - attended nursery school (binary: yes or no)\n",
    "higher - wants to take higher education (binary: yes or no)\n",
    "internet - Internet access at home (binary: yes or no)\n",
    "romantic - with a romantic relationship (binary: yes or no)\n",
    "famrel - quality of family relationships (numeric: from 1 - very bad to 5 - excellent)\n",
    "freetime - free time after school (numeric: from 1 - very low to 5 - very high)\n",
    "goout - going out with friends (numeric: from 1 - very low to 5 - very high)\n",
    "Dalc - workday alcohol consumption (numeric: from 1 - very low to 5 - very high)\n",
    "Walc - weekend alcohol consumption (numeric: from 1 - very low to 5 - very high)\n",
    "health - current health status (numeric: from 1 - very bad to 5 - very good)\n",
    "absences - number of school absences (numeric: from 0 to 93)\n",
    "These grades are related with the course subject, Math or Portuguese:\n",
    "\n",
    "G1 - first period grade (numeric: from 0 to 20)\n",
    "G2 - second period grade (numeric: from 0 to 20)\n",
    "G3 - final grade (numeric: from 0 to 20, output target)\n",
    "Additional note: there are several (382) students that belong to both datasets .\n",
    "These students can be identified by searching for identical attributes\n",
    "that characterize each student, as shown in the annexed R file.\n",
    "\n",
    "Source Information\n",
    "P. Cortez and A. Silva. Using Data Mining to Predict Secondary School Student Performance. In A. Brito and J. Teixeira Eds., Proceedings of 5th FUture BUsiness TEChnology Conference (FUBUTEC 2008) pp. 5-12, Porto, Portugal, April, 2008, EUROSIS, ISBN 978-9077381-39-7.\n",
    "\n",
    "Fabio Pagnotta, Hossain Mohammad Amran.\n",
    "Email:fabio.pagnotta@studenti.unicam.it, mohammadamra.hossain '@' studenti.unicam.it\n",
    "University Of Camerino\n",
    "\n",
    "https://archive.ics.uci.edu/ml/datasets/STUDENT+ALCOHOL+CONSUMPTION"
   ]
  },
  {
   "cell_type": "code",
   "execution_count": 50,
   "metadata": {},
   "outputs": [
    {
     "data": {
      "text/html": [
       "<div>\n",
       "<style scoped>\n",
       "    .dataframe tbody tr th:only-of-type {\n",
       "        vertical-align: middle;\n",
       "    }\n",
       "\n",
       "    .dataframe tbody tr th {\n",
       "        vertical-align: top;\n",
       "    }\n",
       "\n",
       "    .dataframe thead th {\n",
       "        text-align: right;\n",
       "    }\n",
       "</style>\n",
       "<table border=\"1\" class=\"dataframe\">\n",
       "  <thead>\n",
       "    <tr style=\"text-align: right;\">\n",
       "      <th></th>\n",
       "      <th>school</th>\n",
       "      <th>sex</th>\n",
       "      <th>age</th>\n",
       "      <th>address</th>\n",
       "      <th>famsize</th>\n",
       "      <th>Pstatus</th>\n",
       "      <th>Medu</th>\n",
       "      <th>Fedu</th>\n",
       "      <th>Mjob</th>\n",
       "      <th>Fjob</th>\n",
       "      <th>...</th>\n",
       "      <th>famrel</th>\n",
       "      <th>freetime</th>\n",
       "      <th>goout</th>\n",
       "      <th>Dalc</th>\n",
       "      <th>Walc</th>\n",
       "      <th>health</th>\n",
       "      <th>absences</th>\n",
       "      <th>G1</th>\n",
       "      <th>G2</th>\n",
       "      <th>G3</th>\n",
       "    </tr>\n",
       "  </thead>\n",
       "  <tbody>\n",
       "    <tr>\n",
       "      <td>0</td>\n",
       "      <td>GP</td>\n",
       "      <td>F</td>\n",
       "      <td>18</td>\n",
       "      <td>U</td>\n",
       "      <td>GT3</td>\n",
       "      <td>A</td>\n",
       "      <td>4</td>\n",
       "      <td>4</td>\n",
       "      <td>at_home</td>\n",
       "      <td>teacher</td>\n",
       "      <td>...</td>\n",
       "      <td>4</td>\n",
       "      <td>3</td>\n",
       "      <td>4</td>\n",
       "      <td>1</td>\n",
       "      <td>1</td>\n",
       "      <td>3</td>\n",
       "      <td>6</td>\n",
       "      <td>5</td>\n",
       "      <td>6</td>\n",
       "      <td>6</td>\n",
       "    </tr>\n",
       "    <tr>\n",
       "      <td>1</td>\n",
       "      <td>GP</td>\n",
       "      <td>F</td>\n",
       "      <td>17</td>\n",
       "      <td>U</td>\n",
       "      <td>GT3</td>\n",
       "      <td>T</td>\n",
       "      <td>1</td>\n",
       "      <td>1</td>\n",
       "      <td>at_home</td>\n",
       "      <td>other</td>\n",
       "      <td>...</td>\n",
       "      <td>5</td>\n",
       "      <td>3</td>\n",
       "      <td>3</td>\n",
       "      <td>1</td>\n",
       "      <td>1</td>\n",
       "      <td>3</td>\n",
       "      <td>4</td>\n",
       "      <td>5</td>\n",
       "      <td>5</td>\n",
       "      <td>6</td>\n",
       "    </tr>\n",
       "    <tr>\n",
       "      <td>2</td>\n",
       "      <td>GP</td>\n",
       "      <td>F</td>\n",
       "      <td>15</td>\n",
       "      <td>U</td>\n",
       "      <td>LE3</td>\n",
       "      <td>T</td>\n",
       "      <td>1</td>\n",
       "      <td>1</td>\n",
       "      <td>at_home</td>\n",
       "      <td>other</td>\n",
       "      <td>...</td>\n",
       "      <td>4</td>\n",
       "      <td>3</td>\n",
       "      <td>2</td>\n",
       "      <td>2</td>\n",
       "      <td>3</td>\n",
       "      <td>3</td>\n",
       "      <td>10</td>\n",
       "      <td>7</td>\n",
       "      <td>8</td>\n",
       "      <td>10</td>\n",
       "    </tr>\n",
       "    <tr>\n",
       "      <td>3</td>\n",
       "      <td>GP</td>\n",
       "      <td>F</td>\n",
       "      <td>15</td>\n",
       "      <td>U</td>\n",
       "      <td>GT3</td>\n",
       "      <td>T</td>\n",
       "      <td>4</td>\n",
       "      <td>2</td>\n",
       "      <td>health</td>\n",
       "      <td>services</td>\n",
       "      <td>...</td>\n",
       "      <td>3</td>\n",
       "      <td>2</td>\n",
       "      <td>2</td>\n",
       "      <td>1</td>\n",
       "      <td>1</td>\n",
       "      <td>5</td>\n",
       "      <td>2</td>\n",
       "      <td>15</td>\n",
       "      <td>14</td>\n",
       "      <td>15</td>\n",
       "    </tr>\n",
       "    <tr>\n",
       "      <td>4</td>\n",
       "      <td>GP</td>\n",
       "      <td>F</td>\n",
       "      <td>16</td>\n",
       "      <td>U</td>\n",
       "      <td>GT3</td>\n",
       "      <td>T</td>\n",
       "      <td>3</td>\n",
       "      <td>3</td>\n",
       "      <td>other</td>\n",
       "      <td>other</td>\n",
       "      <td>...</td>\n",
       "      <td>4</td>\n",
       "      <td>3</td>\n",
       "      <td>2</td>\n",
       "      <td>1</td>\n",
       "      <td>2</td>\n",
       "      <td>5</td>\n",
       "      <td>4</td>\n",
       "      <td>6</td>\n",
       "      <td>10</td>\n",
       "      <td>10</td>\n",
       "    </tr>\n",
       "  </tbody>\n",
       "</table>\n",
       "<p>5 rows × 33 columns</p>\n",
       "</div>"
      ],
      "text/plain": [
       "  school sex  age address famsize Pstatus  Medu  Fedu     Mjob      Fjob  ...  \\\n",
       "0     GP   F   18       U     GT3       A     4     4  at_home   teacher  ...   \n",
       "1     GP   F   17       U     GT3       T     1     1  at_home     other  ...   \n",
       "2     GP   F   15       U     LE3       T     1     1  at_home     other  ...   \n",
       "3     GP   F   15       U     GT3       T     4     2   health  services  ...   \n",
       "4     GP   F   16       U     GT3       T     3     3    other     other  ...   \n",
       "\n",
       "  famrel freetime  goout  Dalc  Walc health absences  G1  G2  G3  \n",
       "0      4        3      4     1     1      3        6   5   6   6  \n",
       "1      5        3      3     1     1      3        4   5   5   6  \n",
       "2      4        3      2     2     3      3       10   7   8  10  \n",
       "3      3        2      2     1     1      5        2  15  14  15  \n",
       "4      4        3      2     1     2      5        4   6  10  10  \n",
       "\n",
       "[5 rows x 33 columns]"
      ]
     },
     "execution_count": 50,
     "metadata": {},
     "output_type": "execute_result"
    }
   ],
   "source": [
    "new_data = pd.concat([pd.read_csv('student-mat.csv'), pd.read_csv('student-por.csv')])\n",
    "new_data.head()"
   ]
  },
  {
   "cell_type": "code",
   "execution_count": 51,
   "metadata": {},
   "outputs": [
    {
     "data": {
      "text/plain": [
       "(1044, 33)"
      ]
     },
     "execution_count": 51,
     "metadata": {},
     "output_type": "execute_result"
    }
   ],
   "source": [
    "new_data.shape"
   ]
  },
  {
   "cell_type": "code",
   "execution_count": 52,
   "metadata": {},
   "outputs": [
    {
     "data": {
      "text/plain": [
       "Index(['school', 'sex', 'age', 'address', 'famsize', 'Pstatus', 'Medu', 'Fedu',\n",
       "       'Mjob', 'Fjob', 'reason', 'guardian', 'traveltime', 'studytime',\n",
       "       'failures', 'schoolsup', 'famsup', 'paid', 'activities', 'nursery',\n",
       "       'higher', 'internet', 'romantic', 'famrel', 'freetime', 'goout', 'Dalc',\n",
       "       'Walc', 'health', 'absences', 'G1', 'G2', 'G3'],\n",
       "      dtype='object')"
      ]
     },
     "execution_count": 52,
     "metadata": {},
     "output_type": "execute_result"
    }
   ],
   "source": [
    "new_data.columns"
   ]
  },
  {
   "cell_type": "code",
   "execution_count": 53,
   "metadata": {},
   "outputs": [
    {
     "data": {
      "text/html": [
       "<div>\n",
       "<style scoped>\n",
       "    .dataframe tbody tr th:only-of-type {\n",
       "        vertical-align: middle;\n",
       "    }\n",
       "\n",
       "    .dataframe tbody tr th {\n",
       "        vertical-align: top;\n",
       "    }\n",
       "\n",
       "    .dataframe thead th {\n",
       "        text-align: right;\n",
       "    }\n",
       "</style>\n",
       "<table border=\"1\" class=\"dataframe\">\n",
       "  <thead>\n",
       "    <tr style=\"text-align: right;\">\n",
       "      <th></th>\n",
       "      <th>sex</th>\n",
       "      <th>age</th>\n",
       "      <th>failures</th>\n",
       "      <th>goout</th>\n",
       "      <th>Dalc</th>\n",
       "      <th>Walc</th>\n",
       "    </tr>\n",
       "  </thead>\n",
       "  <tbody>\n",
       "    <tr>\n",
       "      <td>0</td>\n",
       "      <td>F</td>\n",
       "      <td>18</td>\n",
       "      <td>0</td>\n",
       "      <td>4</td>\n",
       "      <td>1</td>\n",
       "      <td>1</td>\n",
       "    </tr>\n",
       "    <tr>\n",
       "      <td>1</td>\n",
       "      <td>F</td>\n",
       "      <td>17</td>\n",
       "      <td>0</td>\n",
       "      <td>3</td>\n",
       "      <td>1</td>\n",
       "      <td>1</td>\n",
       "    </tr>\n",
       "    <tr>\n",
       "      <td>2</td>\n",
       "      <td>F</td>\n",
       "      <td>15</td>\n",
       "      <td>3</td>\n",
       "      <td>2</td>\n",
       "      <td>2</td>\n",
       "      <td>3</td>\n",
       "    </tr>\n",
       "    <tr>\n",
       "      <td>3</td>\n",
       "      <td>F</td>\n",
       "      <td>15</td>\n",
       "      <td>0</td>\n",
       "      <td>2</td>\n",
       "      <td>1</td>\n",
       "      <td>1</td>\n",
       "    </tr>\n",
       "    <tr>\n",
       "      <td>4</td>\n",
       "      <td>F</td>\n",
       "      <td>16</td>\n",
       "      <td>0</td>\n",
       "      <td>2</td>\n",
       "      <td>1</td>\n",
       "      <td>2</td>\n",
       "    </tr>\n",
       "  </tbody>\n",
       "</table>\n",
       "</div>"
      ],
      "text/plain": [
       "  sex  age  failures  goout  Dalc  Walc\n",
       "0   F   18         0      4     1     1\n",
       "1   F   17         0      3     1     1\n",
       "2   F   15         3      2     2     3\n",
       "3   F   15         0      2     1     1\n",
       "4   F   16         0      2     1     2"
      ]
     },
     "execution_count": 53,
     "metadata": {},
     "output_type": "execute_result"
    }
   ],
   "source": [
    "new_data.drop(columns=['school', 'address', 'famsize', 'Pstatus', 'Medu', 'Fedu', 'Mjob', 'Fjob', 'reason', 'guardian', 'traveltime', 'studytime', 'schoolsup', 'paid', 'famsup','nursery', 'higher', 'internet', 'famrel', 'health', 'absences', 'G1', 'G2', 'G3', 'activities', 'romantic', 'freetime'], inplace=True)\n",
    "new_data.head()"
   ]
  },
  {
   "cell_type": "code",
   "execution_count": 54,
   "metadata": {},
   "outputs": [
    {
     "data": {
      "text/html": [
       "<div>\n",
       "<style scoped>\n",
       "    .dataframe tbody tr th:only-of-type {\n",
       "        vertical-align: middle;\n",
       "    }\n",
       "\n",
       "    .dataframe tbody tr th {\n",
       "        vertical-align: top;\n",
       "    }\n",
       "\n",
       "    .dataframe thead th {\n",
       "        text-align: right;\n",
       "    }\n",
       "</style>\n",
       "<table border=\"1\" class=\"dataframe\">\n",
       "  <thead>\n",
       "    <tr style=\"text-align: right;\">\n",
       "      <th></th>\n",
       "      <th>gender</th>\n",
       "      <th>age</th>\n",
       "      <th>failures</th>\n",
       "      <th>goout</th>\n",
       "      <th>Dalc</th>\n",
       "      <th>Walc</th>\n",
       "    </tr>\n",
       "  </thead>\n",
       "  <tbody>\n",
       "    <tr>\n",
       "      <td>0</td>\n",
       "      <td>F</td>\n",
       "      <td>18</td>\n",
       "      <td>0</td>\n",
       "      <td>4</td>\n",
       "      <td>1</td>\n",
       "      <td>1</td>\n",
       "    </tr>\n",
       "    <tr>\n",
       "      <td>1</td>\n",
       "      <td>F</td>\n",
       "      <td>17</td>\n",
       "      <td>0</td>\n",
       "      <td>3</td>\n",
       "      <td>1</td>\n",
       "      <td>1</td>\n",
       "    </tr>\n",
       "    <tr>\n",
       "      <td>2</td>\n",
       "      <td>F</td>\n",
       "      <td>15</td>\n",
       "      <td>3</td>\n",
       "      <td>2</td>\n",
       "      <td>2</td>\n",
       "      <td>3</td>\n",
       "    </tr>\n",
       "    <tr>\n",
       "      <td>3</td>\n",
       "      <td>F</td>\n",
       "      <td>15</td>\n",
       "      <td>0</td>\n",
       "      <td>2</td>\n",
       "      <td>1</td>\n",
       "      <td>1</td>\n",
       "    </tr>\n",
       "    <tr>\n",
       "      <td>4</td>\n",
       "      <td>F</td>\n",
       "      <td>16</td>\n",
       "      <td>0</td>\n",
       "      <td>2</td>\n",
       "      <td>1</td>\n",
       "      <td>2</td>\n",
       "    </tr>\n",
       "  </tbody>\n",
       "</table>\n",
       "</div>"
      ],
      "text/plain": [
       "  gender  age  failures  goout  Dalc  Walc\n",
       "0      F   18         0      4     1     1\n",
       "1      F   17         0      3     1     1\n",
       "2      F   15         3      2     2     3\n",
       "3      F   15         0      2     1     1\n",
       "4      F   16         0      2     1     2"
      ]
     },
     "execution_count": 54,
     "metadata": {},
     "output_type": "execute_result"
    }
   ],
   "source": [
    "new_data.rename({'sex':'gender'}, axis='columns', inplace=True)\n",
    "new_data.head()"
   ]
  },
  {
   "cell_type": "code",
   "execution_count": 55,
   "metadata": {},
   "outputs": [
    {
     "data": {
      "text/plain": [
       "array(['F', 'M'], dtype=object)"
      ]
     },
     "execution_count": 55,
     "metadata": {},
     "output_type": "execute_result"
    }
   ],
   "source": [
    "new_data['gender'].unique()"
   ]
  },
  {
   "cell_type": "code",
   "execution_count": 56,
   "metadata": {},
   "outputs": [
    {
     "data": {
      "text/html": [
       "<div>\n",
       "<style scoped>\n",
       "    .dataframe tbody tr th:only-of-type {\n",
       "        vertical-align: middle;\n",
       "    }\n",
       "\n",
       "    .dataframe tbody tr th {\n",
       "        vertical-align: top;\n",
       "    }\n",
       "\n",
       "    .dataframe thead th {\n",
       "        text-align: right;\n",
       "    }\n",
       "</style>\n",
       "<table border=\"1\" class=\"dataframe\">\n",
       "  <thead>\n",
       "    <tr style=\"text-align: right;\">\n",
       "      <th></th>\n",
       "      <th>gender</th>\n",
       "      <th>age</th>\n",
       "      <th>failures</th>\n",
       "      <th>goout</th>\n",
       "      <th>Dalc</th>\n",
       "      <th>Walc</th>\n",
       "    </tr>\n",
       "  </thead>\n",
       "  <tbody>\n",
       "    <tr>\n",
       "      <td>0</td>\n",
       "      <td>2</td>\n",
       "      <td>18</td>\n",
       "      <td>0</td>\n",
       "      <td>4</td>\n",
       "      <td>1</td>\n",
       "      <td>1</td>\n",
       "    </tr>\n",
       "    <tr>\n",
       "      <td>1</td>\n",
       "      <td>2</td>\n",
       "      <td>17</td>\n",
       "      <td>0</td>\n",
       "      <td>3</td>\n",
       "      <td>1</td>\n",
       "      <td>1</td>\n",
       "    </tr>\n",
       "    <tr>\n",
       "      <td>2</td>\n",
       "      <td>2</td>\n",
       "      <td>15</td>\n",
       "      <td>3</td>\n",
       "      <td>2</td>\n",
       "      <td>2</td>\n",
       "      <td>3</td>\n",
       "    </tr>\n",
       "    <tr>\n",
       "      <td>3</td>\n",
       "      <td>2</td>\n",
       "      <td>15</td>\n",
       "      <td>0</td>\n",
       "      <td>2</td>\n",
       "      <td>1</td>\n",
       "      <td>1</td>\n",
       "    </tr>\n",
       "    <tr>\n",
       "      <td>4</td>\n",
       "      <td>2</td>\n",
       "      <td>16</td>\n",
       "      <td>0</td>\n",
       "      <td>2</td>\n",
       "      <td>1</td>\n",
       "      <td>2</td>\n",
       "    </tr>\n",
       "  </tbody>\n",
       "</table>\n",
       "</div>"
      ],
      "text/plain": [
       "   gender  age  failures  goout  Dalc  Walc\n",
       "0       2   18         0      4     1     1\n",
       "1       2   17         0      3     1     1\n",
       "2       2   15         3      2     2     3\n",
       "3       2   15         0      2     1     1\n",
       "4       2   16         0      2     1     2"
      ]
     },
     "execution_count": 56,
     "metadata": {},
     "output_type": "execute_result"
    }
   ],
   "source": [
    "new_data.loc[new_data['gender'] == 'F', 'gender'] = 2\n",
    "new_data.loc[new_data['gender'] == 'M', 'gender'] = 1\n",
    "new_data = new_data.loc[(new_data['age'] > 14) & (new_data['age'] < 19)]\n",
    "new_data.head()"
   ]
  },
  {
   "cell_type": "code",
   "execution_count": 57,
   "metadata": {},
   "outputs": [
    {
     "data": {
      "text/plain": [
       "(96816, 57)"
      ]
     },
     "execution_count": 57,
     "metadata": {},
     "output_type": "execute_result"
    }
   ],
   "source": [
    "new_df = new_df.loc[(new_df['age'] > 14) & (new_df['age'] < 19)]\n",
    "OSRI_size = len(new_df)\n",
    "new_df.shape"
   ]
  },
  {
   "cell_type": "code",
   "execution_count": 58,
   "metadata": {},
   "outputs": [
    {
     "data": {
      "text/plain": [
       "(96816, 57)"
      ]
     },
     "execution_count": 58,
     "metadata": {},
     "output_type": "execute_result"
    }
   ],
   "source": [
    "new_df.shape"
   ]
  },
  {
   "cell_type": "code",
   "execution_count": 59,
   "metadata": {},
   "outputs": [
    {
     "data": {
      "text/html": [
       "<div>\n",
       "<style scoped>\n",
       "    .dataframe tbody tr th:only-of-type {\n",
       "        vertical-align: middle;\n",
       "    }\n",
       "\n",
       "    .dataframe tbody tr th {\n",
       "        vertical-align: top;\n",
       "    }\n",
       "\n",
       "    .dataframe thead th {\n",
       "        text-align: right;\n",
       "    }\n",
       "</style>\n",
       "<table border=\"1\" class=\"dataframe\">\n",
       "  <thead>\n",
       "    <tr style=\"text-align: right;\">\n",
       "      <th></th>\n",
       "      <th>Q14</th>\n",
       "      <th>Q40</th>\n",
       "      <th>age</th>\n",
       "      <th>gender</th>\n",
       "      <th>orientation</th>\n",
       "    </tr>\n",
       "  </thead>\n",
       "  <tbody>\n",
       "    <tr>\n",
       "      <td>0</td>\n",
       "      <td>5</td>\n",
       "      <td>4</td>\n",
       "      <td>18</td>\n",
       "      <td>2</td>\n",
       "      <td>2</td>\n",
       "    </tr>\n",
       "    <tr>\n",
       "      <td>2</td>\n",
       "      <td>3</td>\n",
       "      <td>4</td>\n",
       "      <td>18</td>\n",
       "      <td>2</td>\n",
       "      <td>1</td>\n",
       "    </tr>\n",
       "    <tr>\n",
       "      <td>4</td>\n",
       "      <td>3</td>\n",
       "      <td>1</td>\n",
       "      <td>16</td>\n",
       "      <td>1</td>\n",
       "      <td>1</td>\n",
       "    </tr>\n",
       "    <tr>\n",
       "      <td>6</td>\n",
       "      <td>3</td>\n",
       "      <td>2</td>\n",
       "      <td>16</td>\n",
       "      <td>1</td>\n",
       "      <td>1</td>\n",
       "    </tr>\n",
       "    <tr>\n",
       "      <td>7</td>\n",
       "      <td>5</td>\n",
       "      <td>3</td>\n",
       "      <td>17</td>\n",
       "      <td>2</td>\n",
       "      <td>NaN</td>\n",
       "    </tr>\n",
       "  </tbody>\n",
       "</table>\n",
       "</div>"
      ],
      "text/plain": [
       "   Q14  Q40  age  gender orientation\n",
       "0    5    4   18       2           2\n",
       "2    3    4   18       2           1\n",
       "4    3    1   16       1           1\n",
       "6    3    2   16       1           1\n",
       "7    5    3   17       2         NaN"
      ]
     },
     "execution_count": 59,
     "metadata": {},
     "output_type": "execute_result"
    }
   ],
   "source": [
    "new_df.drop(columns=['Q1', 'Q2', 'Q3', 'Q4', 'Q5', 'Q6', 'Q7', 'Q8', 'Q9', 'Q10', 'Q11', 'Q12', 'Q13', 'Q15', 'Q16', 'Q17','Q18', 'Q19', 'Q20', 'Q21', 'Q22', 'Q23', 'Q24', 'Q25', 'Q26', 'Q27', 'Q28', 'Q29', 'Q30', 'Q31', 'Q32', 'Q33', 'Q34', 'Q35', 'Q36', 'Q37', 'Q38', 'Q39', 'Q41', 'Q42', 'Q43', 'Q44', 'introelapse', 'testelapse', 'country', 'IPC', 'source', 'engnat', 'education', 'race', 'religion', 'hand'], inplace=True)\n",
    "new_df.head()"
   ]
  },
  {
   "cell_type": "code",
   "execution_count": 60,
   "metadata": {},
   "outputs": [
    {
     "data": {
      "text/html": [
       "<div>\n",
       "<style scoped>\n",
       "    .dataframe tbody tr th:only-of-type {\n",
       "        vertical-align: middle;\n",
       "    }\n",
       "\n",
       "    .dataframe tbody tr th {\n",
       "        vertical-align: top;\n",
       "    }\n",
       "\n",
       "    .dataframe thead th {\n",
       "        text-align: right;\n",
       "    }\n",
       "</style>\n",
       "<table border=\"1\" class=\"dataframe\">\n",
       "  <thead>\n",
       "    <tr style=\"text-align: right;\">\n",
       "      <th></th>\n",
       "      <th>Q14</th>\n",
       "      <th>Q40</th>\n",
       "      <th>age</th>\n",
       "      <th>gender</th>\n",
       "      <th>orientation</th>\n",
       "      <th>failures</th>\n",
       "      <th>goout</th>\n",
       "      <th>Dalc</th>\n",
       "      <th>Walc</th>\n",
       "    </tr>\n",
       "  </thead>\n",
       "  <tbody>\n",
       "    <tr>\n",
       "      <td>0</td>\n",
       "      <td>5.0</td>\n",
       "      <td>4.0</td>\n",
       "      <td>18</td>\n",
       "      <td>2</td>\n",
       "      <td>2</td>\n",
       "      <td>NaN</td>\n",
       "      <td>NaN</td>\n",
       "      <td>NaN</td>\n",
       "      <td>NaN</td>\n",
       "    </tr>\n",
       "    <tr>\n",
       "      <td>2</td>\n",
       "      <td>3.0</td>\n",
       "      <td>4.0</td>\n",
       "      <td>18</td>\n",
       "      <td>2</td>\n",
       "      <td>1</td>\n",
       "      <td>NaN</td>\n",
       "      <td>NaN</td>\n",
       "      <td>NaN</td>\n",
       "      <td>NaN</td>\n",
       "    </tr>\n",
       "    <tr>\n",
       "      <td>4</td>\n",
       "      <td>3.0</td>\n",
       "      <td>1.0</td>\n",
       "      <td>16</td>\n",
       "      <td>1</td>\n",
       "      <td>1</td>\n",
       "      <td>NaN</td>\n",
       "      <td>NaN</td>\n",
       "      <td>NaN</td>\n",
       "      <td>NaN</td>\n",
       "    </tr>\n",
       "    <tr>\n",
       "      <td>6</td>\n",
       "      <td>3.0</td>\n",
       "      <td>2.0</td>\n",
       "      <td>16</td>\n",
       "      <td>1</td>\n",
       "      <td>1</td>\n",
       "      <td>NaN</td>\n",
       "      <td>NaN</td>\n",
       "      <td>NaN</td>\n",
       "      <td>NaN</td>\n",
       "    </tr>\n",
       "    <tr>\n",
       "      <td>7</td>\n",
       "      <td>5.0</td>\n",
       "      <td>3.0</td>\n",
       "      <td>17</td>\n",
       "      <td>2</td>\n",
       "      <td>NaN</td>\n",
       "      <td>NaN</td>\n",
       "      <td>NaN</td>\n",
       "      <td>NaN</td>\n",
       "      <td>NaN</td>\n",
       "    </tr>\n",
       "  </tbody>\n",
       "</table>\n",
       "</div>"
      ],
      "text/plain": [
       "   Q14  Q40  age  gender orientation  failures  goout  Dalc  Walc\n",
       "0  5.0  4.0   18       2           2       NaN    NaN   NaN   NaN\n",
       "2  3.0  4.0   18       2           1       NaN    NaN   NaN   NaN\n",
       "4  3.0  1.0   16       1           1       NaN    NaN   NaN   NaN\n",
       "6  3.0  2.0   16       1           1       NaN    NaN   NaN   NaN\n",
       "7  5.0  3.0   17       2         NaN       NaN    NaN   NaN   NaN"
      ]
     },
     "execution_count": 60,
     "metadata": {},
     "output_type": "execute_result"
    }
   ],
   "source": [
    "new_df = pd.concat([new_df, new_data], sort=False)\n",
    "new_df.head()"
   ]
  },
  {
   "cell_type": "markdown",
   "metadata": {},
   "source": [
    "# Part III: 2\n",
    "\n",
    "### Using the two datasets, I want to see how the ratios of people in the given age range that like to dance on their own compared to the ratios of people who really like to dance and the ratio of people who like to go out. To do this, I have restricted the respondents used from the first dataset to age range of the respondents in the second dataset. This should make the groups as similar as possible. While we cannot guarantee that the two datasets have similar respondents, the large size of the first dataset suggests that the traits will generally apply to the second dataset."
   ]
  },
  {
   "cell_type": "markdown",
   "metadata": {},
   "source": [
    "# Part III: 3"
   ]
  },
  {
   "cell_type": "code",
   "execution_count": 63,
   "metadata": {},
   "outputs": [
    {
     "name": "stdout",
     "output_type": "stream",
     "text": [
      "solo dancers per joyful dancers:  1.2648202864943712\n",
      "solo dancers per survey population:  0.6985932077342588\n",
      "joyful dancers people per survey population:  0.5523260618079656\n",
      "non-outgoing people per survey population:  0.3069815195071869\n",
      "outgoing people per survey population:  0.6930184804928131\n"
     ]
    }
   ],
   "source": [
    "new_df['solo_dancer'] = 0\n",
    "new_df.loc[new_df['Q14'] >= 3, 'solo_dancer'] = 1\n",
    "\n",
    "new_df['dancer'] = 0\n",
    "new_df.loc[new_df['Q40'] >= 3, 'dancer'] = 1\n",
    "\n",
    "new_df['dont_go_out'] = 0\n",
    "new_df.loc[new_df['goout'] < 3, 'dont_go_out'] = 1\n",
    "\n",
    "new_df.head()\n",
    "\n",
    "print('solo dancers per joyful dancers: ', new_df['solo_dancer'].sum() / new_df['dancer'].sum())\n",
    "print('solo dancers per survey population: ', new_df['solo_dancer'].sum() / OSRI_size)\n",
    "print('joyful dancers people per survey population: ', new_df['dancer'].sum() / OSRI_size)\n",
    "print('non-outgoing people per survey population: ', new_df['dont_go_out'].sum() / len(new_data))\n",
    "print('outgoing people per survey population: ', 1 - (new_df['dont_go_out'].sum() / len(new_data)))"
   ]
  },
  {
   "cell_type": "markdown",
   "metadata": {},
   "source": [
    "# Part III: 4\n",
    "\n",
    "### I was expecting to find that the ratio of people who like to dance alone compared to people who really like to dance was within 0.2 of the ratio of people who didn't like to go out compared to those who do. Instead, I found that more people claim to dance on their own than really enjoy dancing. This result was counterintuitive, but it may be explained by respondents interpreting the dancing alone as small feel good gestures while interpreting really liking dancing as a more involved experience. Perhaps this reflects that a large portion of the surveyed population are shy dancers. \n",
    "\n",
    "### There is an interesting comparison between the people who like to dance alone per the survey population compared to the amount of people who like to go out compared to the survey population, both are at about 70%. Assuming that the same ratios apply to each survey population, then somewhere between 56% and 100% of outgoing people like dance alone, significantly more optimistic than the 1% to 100% of non-outgoing people that like dance alone."
   ]
  },
  {
   "cell_type": "markdown",
   "metadata": {},
   "source": []
  }
 ],
 "metadata": {
  "kernelspec": {
   "display_name": "Python 3",
   "language": "python",
   "name": "python3"
  },
  "language_info": {
   "codemirror_mode": {
    "name": "ipython",
    "version": 3
   },
   "file_extension": ".py",
   "mimetype": "text/x-python",
   "name": "python",
   "nbconvert_exporter": "python",
   "pygments_lexer": "ipython3",
   "version": "3.7.4"
  }
 },
 "nbformat": 4,
 "nbformat_minor": 2
}
